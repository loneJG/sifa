{
 "cells": [
  {
   "cell_type": "code",
   "execution_count": 1,
   "metadata": {
    "collapsed": true
   },
   "outputs": [],
   "source": [
    "import pandas as pd\n",
    "import os\n",
    "import pickle\n",
    "from docx import Document\n",
    "import re"
   ]
  },
  {
   "cell_type": "code",
   "execution_count": 2,
   "metadata": {
    "collapsed": true
   },
   "outputs": [],
   "source": [
    "path='../rawdata'"
   ]
  },
  {
   "cell_type": "code",
   "execution_count": 3,
   "metadata": {
    "collapsed": false
   },
   "outputs": [
    {
     "name": "stdout",
     "output_type": "stream",
     "text": [
      "民事案件201811-201910 （渝北、江北）.xlsx\n",
      "行政＋刑事16_17\n",
      "案件列表201601-201712行政、刑事.xlsx\n",
      "民事案件201801-10（渝北、江北）.xlsx\n",
      "1.py\n",
      "两法院民事案由分值.xlsx\n",
      ".~lock.案件列表201601-201712行政、刑事 .xlsx#\n",
      "民事18_19\n",
      "两院法官人员信息.xlsx\n",
      "案件列表201801-201910行政、刑事  .xlsx\n",
      "18Data\n",
      ".~lock.两院法官人员信息.xlsx#\n",
      "数据清洗后\n",
      "行政＋刑事18_19\n",
      ".~lock.民事案件201811-201910 （渝北、江北）.xlsx#\n",
      ".ipynb_checkpoints\n"
     ]
    }
   ],
   "source": [
    "\n",
    "for key in os.listdir(path):\n",
    "    print(key)"
   ]
  },
  {
   "cell_type": "markdown",
   "metadata": {},
   "source": [
    "## step1:4,5,6为案由计算"
   ]
  },
  {
   "cell_type": "code",
   "execution_count": 14,
   "metadata": {
    "collapsed": true
   },
   "outputs": [],
   "source": [
    "anyou=pd.read_excel(os.path.join(path,'两法院民事案由分值.xlsx')) \n",
    "anyou0=anyou[anyou['法院']=='重庆市江北区人民法院']\n",
    "anyou1=anyou[anyou['法院']=='重庆市渝北区人民法院']"
   ]
  },
  {
   "cell_type": "code",
   "execution_count": 15,
   "metadata": {
    "collapsed": false
   },
   "outputs": [],
   "source": [
    "def anyou2id(anyou0):\n",
    "    anyoudict0={}\n",
    "    for index, row in anyou0.iterrows():\n",
    "        anyoudict0[row[4]]=row[1]\n",
    "    return anyoudict0"
   ]
  },
  {
   "cell_type": "code",
   "execution_count": 16,
   "metadata": {
    "collapsed": true
   },
   "outputs": [],
   "source": [
    "anyoudict0=anyou2id(anyou0)\n",
    "anyoudict1=anyou2id(anyou1)"
   ]
  },
  {
   "cell_type": "code",
   "execution_count": 17,
   "metadata": {
    "collapsed": false
   },
   "outputs": [
    {
     "data": {
      "text/html": [
       "<div>\n",
       "<style scoped>\n",
       "    .dataframe tbody tr th:only-of-type {\n",
       "        vertical-align: middle;\n",
       "    }\n",
       "\n",
       "    .dataframe tbody tr th {\n",
       "        vertical-align: top;\n",
       "    }\n",
       "\n",
       "    .dataframe thead th {\n",
       "        text-align: right;\n",
       "    }\n",
       "</style>\n",
       "<table border=\"1\" class=\"dataframe\">\n",
       "  <thead>\n",
       "    <tr style=\"text-align: right;\">\n",
       "      <th></th>\n",
       "      <th>法院</th>\n",
       "      <th>分值</th>\n",
       "      <th>案由代码</th>\n",
       "      <th>上级代码</th>\n",
       "      <th>案由名称</th>\n",
       "      <th>案件类型</th>\n",
       "      <th>启用状态</th>\n",
       "    </tr>\n",
       "  </thead>\n",
       "  <tbody>\n",
       "    <tr>\n",
       "      <th>0</th>\n",
       "      <td>重庆市江北区人民法院</td>\n",
       "      <td>6</td>\n",
       "      <td>9000</td>\n",
       "      <td>0</td>\n",
       "      <td>民事案由</td>\n",
       "      <td>民事</td>\n",
       "      <td>正常启用</td>\n",
       "    </tr>\n",
       "  </tbody>\n",
       "</table>\n",
       "</div>"
      ],
      "text/plain": [
       "           法院  分值  案由代码 上级代码  案由名称 案件类型  启用状态\n",
       "0  重庆市江北区人民法院   6  9000    0  民事案由   民事  正常启用"
      ]
     },
     "execution_count": 17,
     "metadata": {},
     "output_type": "execute_result"
    }
   ],
   "source": [
    "anyou.head(1)"
   ]
  },
  {
   "cell_type": "markdown",
   "metadata": {},
   "source": [
    "## step2:去掉法官重名的情况，将人名与Id一一对应"
   ]
  },
  {
   "cell_type": "code",
   "execution_count": 18,
   "metadata": {
    "collapsed": true
   },
   "outputs": [],
   "source": [
    "judge=pd.read_excel(os.path.join(path,'两院法官人员信息.xlsx')) "
   ]
  },
  {
   "cell_type": "code",
   "execution_count": 19,
   "metadata": {
    "collapsed": false,
    "scrolled": false
   },
   "outputs": [
    {
     "data": {
      "text/html": [
       "<div>\n",
       "<style scoped>\n",
       "    .dataframe tbody tr th:only-of-type {\n",
       "        vertical-align: middle;\n",
       "    }\n",
       "\n",
       "    .dataframe tbody tr th {\n",
       "        vertical-align: top;\n",
       "    }\n",
       "\n",
       "    .dataframe thead th {\n",
       "        text-align: right;\n",
       "    }\n",
       "</style>\n",
       "<table border=\"1\" class=\"dataframe\">\n",
       "  <thead>\n",
       "    <tr style=\"text-align: right;\">\n",
       "      <th></th>\n",
       "      <th>id</th>\n",
       "      <th>姓名</th>\n",
       "      <th>法院</th>\n",
       "      <th>部门</th>\n",
       "      <th>入院日期</th>\n",
       "      <th>法律职务</th>\n",
       "      <th>性别</th>\n",
       "      <th>行政职务</th>\n",
       "      <th>出生日期</th>\n",
       "      <th>等级</th>\n",
       "      <th>是否员额法官</th>\n",
       "    </tr>\n",
       "  </thead>\n",
       "  <tbody>\n",
       "    <tr>\n",
       "      <th>0</th>\n",
       "      <td>1</td>\n",
       "      <td>杨青</td>\n",
       "      <td>重庆市江北区人民法院</td>\n",
       "      <td>执行局</td>\n",
       "      <td>NaT</td>\n",
       "      <td>NaN</td>\n",
       "      <td>女</td>\n",
       "      <td>NaN</td>\n",
       "      <td>1996-01-22</td>\n",
       "      <td>NaN</td>\n",
       "      <td>2.0</td>\n",
       "    </tr>\n",
       "    <tr>\n",
       "      <th>1</th>\n",
       "      <td>2</td>\n",
       "      <td>凌文英</td>\n",
       "      <td>重庆市江北区人民法院</td>\n",
       "      <td>民事审判一庭</td>\n",
       "      <td>1985-12-20</td>\n",
       "      <td>审判员</td>\n",
       "      <td>女</td>\n",
       "      <td>NaN</td>\n",
       "      <td>1967-07-04</td>\n",
       "      <td>四级高级法官</td>\n",
       "      <td>1.0</td>\n",
       "    </tr>\n",
       "    <tr>\n",
       "      <th>2</th>\n",
       "      <td>3</td>\n",
       "      <td>张雪琪</td>\n",
       "      <td>重庆市江北区人民法院</td>\n",
       "      <td>执行局</td>\n",
       "      <td>NaT</td>\n",
       "      <td>NaN</td>\n",
       "      <td>女</td>\n",
       "      <td>NaN</td>\n",
       "      <td>1995-03-21</td>\n",
       "      <td>NaN</td>\n",
       "      <td>NaN</td>\n",
       "    </tr>\n",
       "    <tr>\n",
       "      <th>3</th>\n",
       "      <td>4</td>\n",
       "      <td>张敬</td>\n",
       "      <td>重庆市江北区人民法院</td>\n",
       "      <td>民事审判三庭</td>\n",
       "      <td>2001-07-04</td>\n",
       "      <td>审判员</td>\n",
       "      <td>女</td>\n",
       "      <td>副主任科员</td>\n",
       "      <td>1978-12-01</td>\n",
       "      <td>一级法官</td>\n",
       "      <td>1.0</td>\n",
       "    </tr>\n",
       "    <tr>\n",
       "      <th>4</th>\n",
       "      <td>5</td>\n",
       "      <td>汪涓</td>\n",
       "      <td>重庆市江北区人民法院</td>\n",
       "      <td>监察室</td>\n",
       "      <td>1986-07-01</td>\n",
       "      <td>审判员</td>\n",
       "      <td>女</td>\n",
       "      <td>副调研员</td>\n",
       "      <td>1964-03-06</td>\n",
       "      <td>四级高级法官</td>\n",
       "      <td>2.0</td>\n",
       "    </tr>\n",
       "  </tbody>\n",
       "</table>\n",
       "</div>"
      ],
      "text/plain": [
       "   id   姓名          法院      部门       入院日期 法律职务 性别   行政职务       出生日期      等级  \\\n",
       "0   1   杨青  重庆市江北区人民法院     执行局        NaT  NaN  女    NaN 1996-01-22     NaN   \n",
       "1   2  凌文英  重庆市江北区人民法院  民事审判一庭 1985-12-20  审判员  女    NaN 1967-07-04  四级高级法官   \n",
       "2   3  张雪琪  重庆市江北区人民法院     执行局        NaT  NaN  女    NaN 1995-03-21     NaN   \n",
       "3   4   张敬  重庆市江北区人民法院  民事审判三庭 2001-07-04  审判员  女  副主任科员 1978-12-01    一级法官   \n",
       "4   5   汪涓  重庆市江北区人民法院     监察室 1986-07-01  审判员  女   副调研员 1964-03-06  四级高级法官   \n",
       "\n",
       "   是否员额法官  \n",
       "0     2.0  \n",
       "1     1.0  \n",
       "2     NaN  \n",
       "3     1.0  \n",
       "4     2.0  "
      ]
     },
     "execution_count": 19,
     "metadata": {},
     "output_type": "execute_result"
    }
   ],
   "source": [
    "judge.head()"
   ]
  },
  {
   "cell_type": "code",
   "execution_count": 20,
   "metadata": {
    "collapsed": false
   },
   "outputs": [
    {
     "name": "stdout",
     "output_type": "stream",
     "text": [
      "<class 'pandas.core.frame.DataFrame'>\n",
      "RangeIndex: 972 entries, 0 to 971\n",
      "Data columns (total 11 columns):\n",
      "id        972 non-null int64\n",
      "姓名        972 non-null object\n",
      "法院        972 non-null object\n",
      "部门        972 non-null object\n",
      "入院日期      477 non-null datetime64[ns]\n",
      "法律职务      476 non-null object\n",
      "性别        972 non-null object\n",
      "行政职务      315 non-null object\n",
      "出生日期      972 non-null datetime64[ns]\n",
      "等级        210 non-null object\n",
      "是否员额法官    635 non-null float64\n",
      "dtypes: datetime64[ns](2), float64(1), int64(1), object(7)\n",
      "memory usage: 83.6+ KB\n"
     ]
    }
   ],
   "source": [
    "judge.info()"
   ]
  },
  {
   "cell_type": "code",
   "execution_count": 21,
   "metadata": {
    "collapsed": true
   },
   "outputs": [],
   "source": [
    "judge0=judge[judge['法院']=='重庆市江北区人民法院']\n",
    "judge1=judge[judge['法院']=='重庆市渝北区人民法院']"
   ]
  },
  {
   "cell_type": "code",
   "execution_count": 22,
   "metadata": {
    "collapsed": false
   },
   "outputs": [
    {
     "data": {
      "text/html": [
       "<div>\n",
       "<style scoped>\n",
       "    .dataframe tbody tr th:only-of-type {\n",
       "        vertical-align: middle;\n",
       "    }\n",
       "\n",
       "    .dataframe tbody tr th {\n",
       "        vertical-align: top;\n",
       "    }\n",
       "\n",
       "    .dataframe thead th {\n",
       "        text-align: right;\n",
       "    }\n",
       "</style>\n",
       "<table border=\"1\" class=\"dataframe\">\n",
       "  <thead>\n",
       "    <tr style=\"text-align: right;\">\n",
       "      <th></th>\n",
       "      <th>id</th>\n",
       "      <th>姓名</th>\n",
       "      <th>法院</th>\n",
       "      <th>部门</th>\n",
       "      <th>入院日期</th>\n",
       "      <th>法律职务</th>\n",
       "      <th>性别</th>\n",
       "      <th>行政职务</th>\n",
       "      <th>出生日期</th>\n",
       "      <th>等级</th>\n",
       "      <th>是否员额法官</th>\n",
       "    </tr>\n",
       "  </thead>\n",
       "  <tbody>\n",
       "    <tr>\n",
       "      <th>369</th>\n",
       "      <td>370</td>\n",
       "      <td>陈瑶</td>\n",
       "      <td>重庆市江北区人民法院</td>\n",
       "      <td>司法警察大队</td>\n",
       "      <td>NaT</td>\n",
       "      <td>NaN</td>\n",
       "      <td>男</td>\n",
       "      <td>NaN</td>\n",
       "      <td>1995-01-13</td>\n",
       "      <td>NaN</td>\n",
       "      <td>2.0</td>\n",
       "    </tr>\n",
       "    <tr>\n",
       "      <th>384</th>\n",
       "      <td>385</td>\n",
       "      <td>陈瑶</td>\n",
       "      <td>重庆市江北区人民法院</td>\n",
       "      <td>金融审判庭</td>\n",
       "      <td>NaT</td>\n",
       "      <td>NaN</td>\n",
       "      <td>女</td>\n",
       "      <td>NaN</td>\n",
       "      <td>1987-11-16</td>\n",
       "      <td>NaN</td>\n",
       "      <td>NaN</td>\n",
       "    </tr>\n",
       "  </tbody>\n",
       "</table>\n",
       "</div>"
      ],
      "text/plain": [
       "      id  姓名          法院      部门 入院日期 法律职务 性别 行政职务       出生日期   等级  是否员额法官\n",
       "369  370  陈瑶  重庆市江北区人民法院  司法警察大队  NaT  NaN  男  NaN 1995-01-13  NaN     2.0\n",
       "384  385  陈瑶  重庆市江北区人民法院   金融审判庭  NaT  NaN  女  NaN 1987-11-16  NaN     NaN"
      ]
     },
     "execution_count": 22,
     "metadata": {},
     "output_type": "execute_result"
    }
   ],
   "source": [
    "#选出重复的名字：重庆市江北区人民法院：删除id==370\n",
    "#渝北区人民法院：删除id==501,639,648,664,673,737,765,797,836\n",
    "judge0[judge0['姓名'].duplicated(False)]"
   ]
  },
  {
   "cell_type": "code",
   "execution_count": 23,
   "metadata": {
    "collapsed": false
   },
   "outputs": [
    {
     "name": "stderr",
     "output_type": "stream",
     "text": [
      "/home/huipu/.local/lib/python3.6/site-packages/pandas/core/frame.py:3940: SettingWithCopyWarning: \n",
      "A value is trying to be set on a copy of a slice from a DataFrame\n",
      "\n",
      "See the caveats in the documentation: http://pandas.pydata.org/pandas-docs/stable/indexing.html#indexing-view-versus-copy\n",
      "  errors=errors)\n"
     ]
    },
    {
     "data": {
      "text/html": [
       "<div>\n",
       "<style scoped>\n",
       "    .dataframe tbody tr th:only-of-type {\n",
       "        vertical-align: middle;\n",
       "    }\n",
       "\n",
       "    .dataframe tbody tr th {\n",
       "        vertical-align: top;\n",
       "    }\n",
       "\n",
       "    .dataframe thead th {\n",
       "        text-align: right;\n",
       "    }\n",
       "</style>\n",
       "<table border=\"1\" class=\"dataframe\">\n",
       "  <thead>\n",
       "    <tr style=\"text-align: right;\">\n",
       "      <th></th>\n",
       "      <th>id</th>\n",
       "      <th>姓名</th>\n",
       "      <th>法院</th>\n",
       "      <th>部门</th>\n",
       "      <th>入院日期</th>\n",
       "      <th>法律职务</th>\n",
       "      <th>性别</th>\n",
       "      <th>行政职务</th>\n",
       "      <th>出生日期</th>\n",
       "      <th>等级</th>\n",
       "      <th>是否员额法官</th>\n",
       "    </tr>\n",
       "  </thead>\n",
       "  <tbody>\n",
       "  </tbody>\n",
       "</table>\n",
       "</div>"
      ],
      "text/plain": [
       "Empty DataFrame\n",
       "Columns: [id, 姓名, 法院, 部门, 入院日期, 法律职务, 性别, 行政职务, 出生日期, 等级, 是否员额法官]\n",
       "Index: []"
      ]
     },
     "execution_count": 23,
     "metadata": {},
     "output_type": "execute_result"
    }
   ],
   "source": [
    "judge0.drop([369],inplace=True)\n",
    "judge0[judge0['姓名'].duplicated(False)]"
   ]
  },
  {
   "cell_type": "code",
   "execution_count": 24,
   "metadata": {
    "collapsed": false
   },
   "outputs": [
    {
     "data": {
      "text/html": [
       "<div>\n",
       "<style scoped>\n",
       "    .dataframe tbody tr th:only-of-type {\n",
       "        vertical-align: middle;\n",
       "    }\n",
       "\n",
       "    .dataframe tbody tr th {\n",
       "        vertical-align: top;\n",
       "    }\n",
       "\n",
       "    .dataframe thead th {\n",
       "        text-align: right;\n",
       "    }\n",
       "</style>\n",
       "<table border=\"1\" class=\"dataframe\">\n",
       "  <thead>\n",
       "    <tr style=\"text-align: right;\">\n",
       "      <th></th>\n",
       "      <th>id</th>\n",
       "      <th>姓名</th>\n",
       "      <th>法院</th>\n",
       "      <th>部门</th>\n",
       "      <th>入院日期</th>\n",
       "      <th>法律职务</th>\n",
       "      <th>性别</th>\n",
       "      <th>行政职务</th>\n",
       "      <th>出生日期</th>\n",
       "      <th>等级</th>\n",
       "      <th>是否员额法官</th>\n",
       "    </tr>\n",
       "  </thead>\n",
       "  <tbody>\n",
       "    <tr>\n",
       "      <th>468</th>\n",
       "      <td>469</td>\n",
       "      <td>杨琼</td>\n",
       "      <td>重庆市渝北区人民法院</td>\n",
       "      <td>民事审判二庭</td>\n",
       "      <td>1994-04-01</td>\n",
       "      <td>庭长</td>\n",
       "      <td>女</td>\n",
       "      <td>庭长</td>\n",
       "      <td>1970-05-23</td>\n",
       "      <td>四级高级法官</td>\n",
       "      <td>1.0</td>\n",
       "    </tr>\n",
       "    <tr>\n",
       "      <th>500</th>\n",
       "      <td>501</td>\n",
       "      <td>何霜</td>\n",
       "      <td>重庆市渝北区人民法院</td>\n",
       "      <td>民事审判二庭</td>\n",
       "      <td>NaT</td>\n",
       "      <td>NaN</td>\n",
       "      <td>女</td>\n",
       "      <td>NaN</td>\n",
       "      <td>1989-10-18</td>\n",
       "      <td>NaN</td>\n",
       "      <td>NaN</td>\n",
       "    </tr>\n",
       "    <tr>\n",
       "      <th>638</th>\n",
       "      <td>639</td>\n",
       "      <td>陈果</td>\n",
       "      <td>重庆市渝北区人民法院</td>\n",
       "      <td>环境资源审判庭</td>\n",
       "      <td>NaT</td>\n",
       "      <td>NaN</td>\n",
       "      <td>女</td>\n",
       "      <td>NaN</td>\n",
       "      <td>1994-12-19</td>\n",
       "      <td>NaN</td>\n",
       "      <td>NaN</td>\n",
       "    </tr>\n",
       "    <tr>\n",
       "      <th>647</th>\n",
       "      <td>648</td>\n",
       "      <td>王婷婷</td>\n",
       "      <td>重庆市渝北区人民法院</td>\n",
       "      <td>综合办公室</td>\n",
       "      <td>2006-04-26</td>\n",
       "      <td>司法行政人员</td>\n",
       "      <td>女</td>\n",
       "      <td>其他</td>\n",
       "      <td>1983-01-27</td>\n",
       "      <td>NaN</td>\n",
       "      <td>2.0</td>\n",
       "    </tr>\n",
       "    <tr>\n",
       "      <th>659</th>\n",
       "      <td>660</td>\n",
       "      <td>陈果</td>\n",
       "      <td>重庆市渝北区人民法院</td>\n",
       "      <td>环境资源审判庭</td>\n",
       "      <td>2011-08-12</td>\n",
       "      <td>审判员</td>\n",
       "      <td>男</td>\n",
       "      <td>其他</td>\n",
       "      <td>1984-10-10</td>\n",
       "      <td>二级法官</td>\n",
       "      <td>1.0</td>\n",
       "    </tr>\n",
       "    <tr>\n",
       "      <th>663</th>\n",
       "      <td>664</td>\n",
       "      <td>马瑞</td>\n",
       "      <td>重庆市渝北区人民法院</td>\n",
       "      <td>民事审判三庭</td>\n",
       "      <td>2018-11-07</td>\n",
       "      <td>法官助理</td>\n",
       "      <td>女</td>\n",
       "      <td>其他</td>\n",
       "      <td>1993-12-17</td>\n",
       "      <td>NaN</td>\n",
       "      <td>NaN</td>\n",
       "    </tr>\n",
       "    <tr>\n",
       "      <th>672</th>\n",
       "      <td>673</td>\n",
       "      <td>何霜</td>\n",
       "      <td>重庆市渝北区人民法院</td>\n",
       "      <td>民事审判二庭</td>\n",
       "      <td>NaT</td>\n",
       "      <td>NaN</td>\n",
       "      <td>女</td>\n",
       "      <td>NaN</td>\n",
       "      <td>1994-08-18</td>\n",
       "      <td>NaN</td>\n",
       "      <td>2.0</td>\n",
       "    </tr>\n",
       "    <tr>\n",
       "      <th>736</th>\n",
       "      <td>737</td>\n",
       "      <td>郭鹏飞</td>\n",
       "      <td>重庆市渝北区人民法院</td>\n",
       "      <td>民事审判一庭</td>\n",
       "      <td>2018-11-08</td>\n",
       "      <td>法官助理</td>\n",
       "      <td>男</td>\n",
       "      <td>其他</td>\n",
       "      <td>1991-08-19</td>\n",
       "      <td>NaN</td>\n",
       "      <td>NaN</td>\n",
       "    </tr>\n",
       "    <tr>\n",
       "      <th>764</th>\n",
       "      <td>765</td>\n",
       "      <td>杨琼</td>\n",
       "      <td>重庆市渝北区人民法院</td>\n",
       "      <td>民事审判二庭</td>\n",
       "      <td>NaT</td>\n",
       "      <td>NaN</td>\n",
       "      <td>女</td>\n",
       "      <td>NaN</td>\n",
       "      <td>1991-10-07</td>\n",
       "      <td>NaN</td>\n",
       "      <td>NaN</td>\n",
       "    </tr>\n",
       "    <tr>\n",
       "      <th>796</th>\n",
       "      <td>797</td>\n",
       "      <td>马瑞</td>\n",
       "      <td>重庆市渝北区人民法院</td>\n",
       "      <td>民事审判三庭</td>\n",
       "      <td>NaT</td>\n",
       "      <td>NaN</td>\n",
       "      <td>女</td>\n",
       "      <td>NaN</td>\n",
       "      <td>1995-08-31</td>\n",
       "      <td>NaN</td>\n",
       "      <td>NaN</td>\n",
       "    </tr>\n",
       "    <tr>\n",
       "      <th>835</th>\n",
       "      <td>836</td>\n",
       "      <td>郭鹏飞</td>\n",
       "      <td>重庆市渝北区人民法院</td>\n",
       "      <td>民事审判二庭</td>\n",
       "      <td>2017-11-08</td>\n",
       "      <td>法官助理</td>\n",
       "      <td>男</td>\n",
       "      <td>其他</td>\n",
       "      <td>1990-10-12</td>\n",
       "      <td>NaN</td>\n",
       "      <td>2.0</td>\n",
       "    </tr>\n",
       "    <tr>\n",
       "      <th>859</th>\n",
       "      <td>860</td>\n",
       "      <td>王婷婷</td>\n",
       "      <td>重庆市渝北区人民法院</td>\n",
       "      <td>民事审判三庭</td>\n",
       "      <td>2010-08-13</td>\n",
       "      <td>审判员</td>\n",
       "      <td>女</td>\n",
       "      <td>其他</td>\n",
       "      <td>1985-06-11</td>\n",
       "      <td>一级法官</td>\n",
       "      <td>1.0</td>\n",
       "    </tr>\n",
       "  </tbody>\n",
       "</table>\n",
       "</div>"
      ],
      "text/plain": [
       "      id   姓名          法院       部门       入院日期    法律职务 性别 行政职务       出生日期  \\\n",
       "468  469   杨琼  重庆市渝北区人民法院   民事审判二庭 1994-04-01      庭长  女   庭长 1970-05-23   \n",
       "500  501   何霜  重庆市渝北区人民法院   民事审判二庭        NaT     NaN  女  NaN 1989-10-18   \n",
       "638  639   陈果  重庆市渝北区人民法院  环境资源审判庭        NaT     NaN  女  NaN 1994-12-19   \n",
       "647  648  王婷婷  重庆市渝北区人民法院    综合办公室 2006-04-26  司法行政人员  女   其他 1983-01-27   \n",
       "659  660   陈果  重庆市渝北区人民法院  环境资源审判庭 2011-08-12     审判员  男   其他 1984-10-10   \n",
       "663  664   马瑞  重庆市渝北区人民法院   民事审判三庭 2018-11-07    法官助理  女   其他 1993-12-17   \n",
       "672  673   何霜  重庆市渝北区人民法院   民事审判二庭        NaT     NaN  女  NaN 1994-08-18   \n",
       "736  737  郭鹏飞  重庆市渝北区人民法院   民事审判一庭 2018-11-08    法官助理  男   其他 1991-08-19   \n",
       "764  765   杨琼  重庆市渝北区人民法院   民事审判二庭        NaT     NaN  女  NaN 1991-10-07   \n",
       "796  797   马瑞  重庆市渝北区人民法院   民事审判三庭        NaT     NaN  女  NaN 1995-08-31   \n",
       "835  836  郭鹏飞  重庆市渝北区人民法院   民事审判二庭 2017-11-08    法官助理  男   其他 1990-10-12   \n",
       "859  860  王婷婷  重庆市渝北区人民法院   民事审判三庭 2010-08-13     审判员  女   其他 1985-06-11   \n",
       "\n",
       "         等级  是否员额法官  \n",
       "468  四级高级法官     1.0  \n",
       "500     NaN     NaN  \n",
       "638     NaN     NaN  \n",
       "647     NaN     2.0  \n",
       "659    二级法官     1.0  \n",
       "663     NaN     NaN  \n",
       "672     NaN     2.0  \n",
       "736     NaN     NaN  \n",
       "764     NaN     NaN  \n",
       "796     NaN     NaN  \n",
       "835     NaN     2.0  \n",
       "859    一级法官     1.0  "
      ]
     },
     "execution_count": 24,
     "metadata": {},
     "output_type": "execute_result"
    }
   ],
   "source": [
    "judge1[judge1['姓名'].duplicated(False)]"
   ]
  },
  {
   "cell_type": "code",
   "execution_count": 25,
   "metadata": {
    "collapsed": false
   },
   "outputs": [
    {
     "data": {
      "text/html": [
       "<div>\n",
       "<style scoped>\n",
       "    .dataframe tbody tr th:only-of-type {\n",
       "        vertical-align: middle;\n",
       "    }\n",
       "\n",
       "    .dataframe tbody tr th {\n",
       "        vertical-align: top;\n",
       "    }\n",
       "\n",
       "    .dataframe thead th {\n",
       "        text-align: right;\n",
       "    }\n",
       "</style>\n",
       "<table border=\"1\" class=\"dataframe\">\n",
       "  <thead>\n",
       "    <tr style=\"text-align: right;\">\n",
       "      <th></th>\n",
       "      <th>id</th>\n",
       "      <th>姓名</th>\n",
       "      <th>法院</th>\n",
       "      <th>部门</th>\n",
       "      <th>入院日期</th>\n",
       "      <th>法律职务</th>\n",
       "      <th>性别</th>\n",
       "      <th>行政职务</th>\n",
       "      <th>出生日期</th>\n",
       "      <th>等级</th>\n",
       "      <th>是否员额法官</th>\n",
       "    </tr>\n",
       "  </thead>\n",
       "  <tbody>\n",
       "  </tbody>\n",
       "</table>\n",
       "</div>"
      ],
      "text/plain": [
       "Empty DataFrame\n",
       "Columns: [id, 姓名, 法院, 部门, 入院日期, 法律职务, 性别, 行政职务, 出生日期, 等级, 是否员额法官]\n",
       "Index: []"
      ]
     },
     "execution_count": 25,
     "metadata": {},
     "output_type": "execute_result"
    }
   ],
   "source": [
    "judge1.drop([500,638,647,663,672,736,764,796,835],inplace=True)\n",
    "judge1[judge1['姓名'].duplicated(False)]"
   ]
  },
  {
   "cell_type": "code",
   "execution_count": 26,
   "metadata": {
    "collapsed": true
   },
   "outputs": [],
   "source": [
    "def judgeToId(judge1):\n",
    "    judge2id={}\n",
    "    # id2judge={}\n",
    "    for index, row in judge1.iterrows():\n",
    "        judge2id[row[1]]=row[0]\n",
    "    #     id2judge[row[0]]=row[1]\n",
    "    return judge2id"
   ]
  },
  {
   "cell_type": "code",
   "execution_count": 27,
   "metadata": {
    "collapsed": true
   },
   "outputs": [],
   "source": [
    "judge2id0=judgeToId(judge0)\n",
    "judge2id1=judgeToId(judge1)"
   ]
  },
  {
   "cell_type": "markdown",
   "metadata": {},
   "source": [
    "## step3:原被告数与主体类别"
   ]
  },
  {
   "cell_type": "code",
   "execution_count": 28,
   "metadata": {
    "collapsed": false
   },
   "outputs": [
    {
     "data": {
      "text/plain": [
       "(1, 0)"
      ]
     },
     "execution_count": 28,
     "metadata": {},
     "output_type": "execute_result"
    }
   ],
   "source": [
    "#原被告数与主体类别\n",
    "#0表示自然人，1表示公司\n",
    "#返回（自然人/公司，数量得分）\n",
    "def plaintNum(s):\n",
    "    numS=s.split(',')\n",
    "    num=len(numS)\n",
    "    flag=0#0表示自然人，1表示公司\n",
    "    for key in numS:\n",
    "        if len(key)>4:\n",
    "            flag=1\n",
    "    if num==1:\n",
    "        return flag, 0\n",
    "    elif num==2:\n",
    "        return flag, 0.2\n",
    "    else:\n",
    "        return flag,0.5\n",
    "plaintNum('兴业银行股份有限公司信用卡中心')"
   ]
  },
  {
   "cell_type": "markdown",
   "metadata": {},
   "source": [
    "## step4:适用程序"
   ]
  },
  {
   "cell_type": "code",
   "execution_count": 29,
   "metadata": {
    "collapsed": true
   },
   "outputs": [],
   "source": [
    "def proce(s):\n",
    "    if s=='简易程序（小额诉讼）'or s=='简易程序(小额诉讼)':\n",
    "        return 0\n",
    "    if s=='简易程序(非小额诉讼)'or s=='简易程序（非小额诉讼）' or s=='简易':\n",
    "        return 0.5\n",
    "    if s=='普通程序'or s=='普通':\n",
    "        return 1"
   ]
  },
  {
   "cell_type": "markdown",
   "metadata": {},
   "source": [
    "## step5:标的金额"
   ]
  },
  {
   "cell_type": "code",
   "execution_count": 30,
   "metadata": {
    "collapsed": true
   },
   "outputs": [],
   "source": [
    "def money(m):\n",
    "    if m=='\\\\N':\n",
    "        m=0\n",
    "    m=int(m)\n",
    "    if m<=5000:\n",
    "        return 0\n",
    "    elif m<=30000:\n",
    "        return 0.5\n",
    "    else:\n",
    "        return 1"
   ]
  },
  {
   "cell_type": "markdown",
   "metadata": {},
   "source": [
    "# 案件打分，匹配法官（未在名单内的法官id为0）"
   ]
  },
  {
   "cell_type": "markdown",
   "metadata": {},
   "source": [
    "201811-201910\n",
    "江北区，共33221 条数据（包括判决和其他）,其中有5987条数据>=6\n",
    "渝北区，共31389 条数据（包括判决和其他）,其中有10636条数据>=6\n",
    "201801-201810   \n",
    "江北区，共23209 条数据（包括判决和其他）,其中有3709条数据>=6\n",
    "渝北区，共24117 条数据（包括判决和其他）,其中有8646条数据>=6"
   ]
  },
  {
   "cell_type": "markdown",
   "metadata": {},
   "source": [
    "## step6:读取excel数据"
   ]
  },
  {
   "cell_type": "code",
   "execution_count": 31,
   "metadata": {
    "collapsed": false
   },
   "outputs": [],
   "source": [
    "root_pre='民事2018.01-2018.10.xlsx'\n",
    "data_pre=pd.read_excel(os.path.join(path,'数据清洗后',root_pre))   "
   ]
  },
  {
   "cell_type": "code",
   "execution_count": 32,
   "metadata": {
    "collapsed": true
   },
   "outputs": [],
   "source": [
    "data_pre0=data_pre[data_pre['法院']=='重庆市江北区人民法院']\n",
    "data_pre1=data_pre[data_pre['法院']=='重庆市渝北区人民法院']"
   ]
  },
  {
   "cell_type": "code",
   "execution_count": 33,
   "metadata": {
    "collapsed": true
   },
   "outputs": [],
   "source": [
    "root='民事2018.11-2019.10.xlsx'\n",
    "data=pd.read_excel(os.path.join(path,'数据清洗后',root))   "
   ]
  },
  {
   "cell_type": "code",
   "execution_count": 34,
   "metadata": {
    "collapsed": false
   },
   "outputs": [],
   "source": [
    "data0=data[data['法院']=='重庆市江北区人民法院']\n",
    "data1=data[data['法院']=='重庆市渝北区人民法院']"
   ]
  },
  {
   "cell_type": "code",
   "execution_count": 35,
   "metadata": {
    "collapsed": false
   },
   "outputs": [
    {
     "name": "stdout",
     "output_type": "stream",
     "text": [
      "<class 'pandas.core.frame.DataFrame'>\n",
      "RangeIndex: 22867 entries, 0 to 22866\n",
      "Data columns (total 24 columns):\n",
      "案件标识           22867 non-null object\n",
      "法院             22867 non-null object\n",
      "案号             22867 non-null object\n",
      "立案案由           22867 non-null object\n",
      "原告             22867 non-null object\n",
      "被告             22867 non-null object\n",
      "承办部门           22867 non-null object\n",
      "承办人            22867 non-null object\n",
      "申请标的           22867 non-null object\n",
      "适用程序           22867 non-null object\n",
      "收案日期           22867 non-null datetime64[ns]\n",
      "立案日期           22867 non-null datetime64[ns]\n",
      "移送日期           22867 non-null object\n",
      "签收日期           22867 non-null datetime64[ns]\n",
      "分案日期           22867 non-null object\n",
      "报结日期           22867 non-null object\n",
      "结案日期           22867 non-null datetime64[ns]\n",
      "结案方式           22867 non-null object\n",
      "裁判文书           22867 non-null object\n",
      "法定审理天数         22867 non-null int64\n",
      "实际审理天数         22867 non-null int64\n",
      "计算结果           22867 non-null int64\n",
      "Unnamed: 22    0 non-null float64\n",
      "差值判断           22867 non-null int64\n",
      "dtypes: datetime64[ns](4), float64(1), int64(4), object(15)\n",
      "memory usage: 4.2+ MB\n"
     ]
    }
   ],
   "source": [
    "data.info()"
   ]
  },
  {
   "cell_type": "markdown",
   "metadata": {},
   "source": [
    "### 案件打分，输出格式：{'案号'：{'案由','案件得分','实际时间','法官id'}}"
   ]
  },
  {
   "cell_type": "code",
   "execution_count": 36,
   "metadata": {
    "collapsed": false
   },
   "outputs": [],
   "source": [
    "def score(data0,anyoudict0,judge2id0):\n",
    "    datadict={}\n",
    "    number=0\n",
    "    for index, row in data0.iterrows():\n",
    "        try:\n",
    "            content={}\n",
    "            content['案由']=row[3]\n",
    "            a,b=plaintNum(row[4])\n",
    "            c,d=plaintNum(row[5])\n",
    "            num=anyoudict0[row[3]]\n",
    "            num=num+b+d+(a+c)/2\n",
    "            num=num+money(row[8])\n",
    "            num=num+proce(row[9])\n",
    "            content['案件得分']=num\n",
    "            content['实际时间']=int(row[21])\n",
    "            if num>=6:\n",
    "                number=number+1\n",
    "            if row[7] in judge2id0:\n",
    "                content['法官id']=judge2id0[row[7]]\n",
    "            else:\n",
    "                content['法官id']=0\n",
    "            content['适用程序']=row[9]\n",
    "    #         content['案由得分']=anyoudict0(row[3])\n",
    "    #         content['原告得分']=b\n",
    "    #         content['被告得分']=d\n",
    "    #         content['标的金额']=money(row[8])\n",
    "    #         content['适用程序']=proce(row[9])\n",
    "    #         content['主体类别']=(a+c)/2\n",
    "            datadict[row[2]]=content\n",
    "        except:\n",
    "            continue\n",
    "    print(number)\n",
    "    return datadict"
   ]
  },
  {
   "cell_type": "code",
   "execution_count": 37,
   "metadata": {
    "collapsed": false
   },
   "outputs": [
    {
     "name": "stdout",
     "output_type": "stream",
     "text": [
      "2943\n"
     ]
    }
   ],
   "source": [
    "datadict1=score(data1,anyoudict1,judge2id1)"
   ]
  },
  {
   "cell_type": "code",
   "execution_count": 38,
   "metadata": {
    "collapsed": false
   },
   "outputs": [
    {
     "name": "stdout",
     "output_type": "stream",
     "text": [
      "<class 'pandas.core.frame.DataFrame'>\n",
      "Int64Index: 11567 entries, 3 to 22866\n",
      "Data columns (total 24 columns):\n",
      "案件标识           11567 non-null object\n",
      "法院             11567 non-null object\n",
      "案号             11567 non-null object\n",
      "立案案由           11567 non-null object\n",
      "原告             11567 non-null object\n",
      "被告             11567 non-null object\n",
      "承办部门           11567 non-null object\n",
      "承办人            11567 non-null object\n",
      "申请标的           11567 non-null object\n",
      "适用程序           11567 non-null object\n",
      "收案日期           11567 non-null datetime64[ns]\n",
      "立案日期           11567 non-null datetime64[ns]\n",
      "移送日期           11567 non-null object\n",
      "签收日期           11567 non-null datetime64[ns]\n",
      "分案日期           11567 non-null object\n",
      "报结日期           11567 non-null object\n",
      "结案日期           11567 non-null datetime64[ns]\n",
      "结案方式           11567 non-null object\n",
      "裁判文书           11567 non-null object\n",
      "法定审理天数         11567 non-null int64\n",
      "实际审理天数         11567 non-null int64\n",
      "计算结果           11567 non-null int64\n",
      "Unnamed: 22    0 non-null float64\n",
      "差值判断           11567 non-null int64\n",
      "dtypes: datetime64[ns](4), float64(1), int64(4), object(15)\n",
      "memory usage: 2.2+ MB\n"
     ]
    }
   ],
   "source": [
    "data1.info()"
   ]
  },
  {
   "cell_type": "code",
   "execution_count": 39,
   "metadata": {
    "collapsed": false
   },
   "outputs": [
    {
     "data": {
      "text/plain": [
       "{'案由': '房屋租赁合同纠纷', '案件得分': 5.5, '实际时间': 82, '法官id': 464, '适用程序': '简易程序（非小额诉讼）'}"
      ]
     },
     "execution_count": 39,
     "metadata": {},
     "output_type": "execute_result"
    }
   ],
   "source": [
    "datadict1['(2018)渝0112民初30233号']"
   ]
  },
  {
   "cell_type": "code",
   "execution_count": 40,
   "metadata": {
    "collapsed": false
   },
   "outputs": [
    {
     "name": "stdout",
     "output_type": "stream",
     "text": [
      "860\n"
     ]
    }
   ],
   "source": [
    "datadict0=score(data0,anyoudict0,judge2id0)"
   ]
  },
  {
   "cell_type": "code",
   "execution_count": 41,
   "metadata": {
    "collapsed": false
   },
   "outputs": [
    {
     "name": "stdout",
     "output_type": "stream",
     "text": [
      "700\n"
     ]
    }
   ],
   "source": [
    "predict0=score(data_pre0,anyoudict0,judge2id0)"
   ]
  },
  {
   "cell_type": "code",
   "execution_count": 42,
   "metadata": {
    "collapsed": false
   },
   "outputs": [
    {
     "name": "stdout",
     "output_type": "stream",
     "text": [
      "2744\n"
     ]
    }
   ],
   "source": [
    "predict1=score(data_pre1,anyoudict1,judge2id1)"
   ]
  },
  {
   "cell_type": "code",
   "execution_count": 43,
   "metadata": {
    "collapsed": false
   },
   "outputs": [
    {
     "data": {
      "text/plain": [
       "11567"
      ]
     },
     "execution_count": 43,
     "metadata": {},
     "output_type": "execute_result"
    }
   ],
   "source": [
    "len(datadict1)"
   ]
  },
  {
   "cell_type": "code",
   "execution_count": 44,
   "metadata": {
    "collapsed": false
   },
   "outputs": [
    {
     "data": {
      "text/plain": [
       "11300"
      ]
     },
     "execution_count": 44,
     "metadata": {},
     "output_type": "execute_result"
    }
   ],
   "source": [
    "len(datadict0)"
   ]
  },
  {
   "cell_type": "code",
   "execution_count": 45,
   "metadata": {
    "collapsed": false
   },
   "outputs": [
    {
     "name": "stdout",
     "output_type": "stream",
     "text": [
      "5021 10006\n"
     ]
    }
   ],
   "source": [
    "print(len(predict0),len(predict1))"
   ]
  },
  {
   "cell_type": "markdown",
   "metadata": {},
   "source": [
    "合并2018-2019年的案件,datadict0:2018.11-2019.10;predict0:2018.01-2018.10"
   ]
  },
  {
   "cell_type": "code",
   "execution_count": 46,
   "metadata": {
    "collapsed": true
   },
   "outputs": [],
   "source": [
    "datadict0.update(datadict1)\n",
    "predict0.update(predict1)"
   ]
  },
  {
   "cell_type": "code",
   "execution_count": 47,
   "metadata": {
    "collapsed": false
   },
   "outputs": [
    {
     "name": "stdout",
     "output_type": "stream",
     "text": [
      "22867 15027 37894\n"
     ]
    }
   ],
   "source": [
    "print(len(datadict0),len(predict0),len(datadict0)+len(predict0))"
   ]
  },
  {
   "cell_type": "markdown",
   "metadata": {},
   "source": [
    "## 读取18-19年以判决结案的案号与文书内容（有判决书的案件,共48441条）"
   ]
  },
  {
   "cell_type": "markdown",
   "metadata": {},
   "source": [
    "### :将案件标识与案号关联:keyDict"
   ]
  },
  {
   "cell_type": "code",
   "execution_count": 48,
   "metadata": {
    "collapsed": true
   },
   "outputs": [],
   "source": [
    "#将案件标识与案号关联:keyDict\n",
    "#root为文书存放目录名，path为保存keyDict的文件名\n",
    "def signDict(path1,rootw,pathn):\n",
    "    keyDict={}#将案件标识与案号关联\n",
    "    table=[]#以表格形式存在的文书\n",
    "    notFindDoc = []#不是以docx结尾的文书（格式转换未成功的文书）\n",
    "    if os.path.exists(os.path.join(rootw,pathn)):\n",
    "        read_file = open(os.path.join(rootw,pathn), 'rb')\n",
    "        keyDict = pickle.load(read_file)\n",
    "        read_file.close()\n",
    "        read_file = open(os.path.join(rootw,'table.pkl'), 'rb')\n",
    "        table = pickle.load(read_file)\n",
    "        read_file.close()\n",
    "        read_file = open(os.path.join(rootw,'notFindDoc.pkl'), 'rb')\n",
    "        notFindDoc = pickle.load(read_file)\n",
    "        read_file.close()\n",
    "    else:\n",
    "        path2=os.path.join(path1,'民事18_19')\n",
    "        for f in os.listdir(path2):\n",
    "            root2=os.path.join(path2, f)\n",
    "            for key_ in os.listdir(root2) :\n",
    "                key = os.path.join(root2,key_)\n",
    "                try:\n",
    "                    if key.endswith(\".docx\"):\n",
    "                        document = Document(key)\n",
    "                        paras = list()\n",
    "                        for p in document.paragraphs:\n",
    "                            if p.text.strip() != \"\":\n",
    "                                paras.append(p.text.strip())\n",
    "                        # if(len(paras)==0):\n",
    "                        #     tables = document.tables\n",
    "                        #     for t in tables:\n",
    "                        #         for r in t.rows:\n",
    "                        #             for c in r.cells:\n",
    "                        #                 for p in c.paragraphs:\n",
    "                        #                     if p.text.strip() != \"\":\n",
    "                        #                         paras.append(p.text.strip())\n",
    "                        keyDict[key_.split('.')[0]]=paras[2]\n",
    "                    else:\n",
    "                        notFindDoc.append(key)\n",
    "                except:\n",
    "                    table.append(key)\n",
    "        output = open(os.path.join(rootw,pathn), 'wb')\n",
    "        pickle.dump(keyDict, output,True)\n",
    "        output.close()\n",
    "        output = open(os.path.join(rootw,'table.pkl'), 'wb')\n",
    "        pickle.dump(table, output,True)\n",
    "        output.close()\n",
    "        output = open(os.path.join(rootw,'notFindDoc.pkl'), 'wb')\n",
    "        pickle.dump(notFindDoc, output,True)\n",
    "        output.close()\n",
    "    print('keyDict',len(keyDict),'table',len(table),'notFindDoc',len(notFindDoc))\n",
    "    return keyDict,table,notFindDoc"
   ]
  },
  {
   "cell_type": "code",
   "execution_count": 49,
   "metadata": {
    "collapsed": false
   },
   "outputs": [],
   "source": [
    "import os\n",
    "path='../rawdata'\n",
    "rootw=os.path.join(path,'数据清洗后','18Data')\n",
    "pathn='keyDict.pkl'"
   ]
  },
  {
   "cell_type": "code",
   "execution_count": 50,
   "metadata": {
    "collapsed": false
   },
   "outputs": [
    {
     "name": "stdout",
     "output_type": "stream",
     "text": [
      "keyDict 42609 table 3785 notFindDoc 1950\n"
     ]
    }
   ],
   "source": [
    "keyDict,table,notFindDoc=signDict(path,rootw,pathn)"
   ]
  },
  {
   "cell_type": "code",
   "execution_count": 51,
   "metadata": {
    "collapsed": false
   },
   "outputs": [],
   "source": [
    "keyDict;\n",
    "#{'M1D_7cc626c2-50c2-4921-a27e-ec10428feaa8': '（2019）渝0112民初9935号','M1D_98cb7509-1656-4804-a762-0e21f1140a0d': '渝0112民初19754号',"
   ]
  },
  {
   "cell_type": "markdown",
   "metadata": {},
   "source": [
    "### 2,提取文书内容"
   ]
  },
  {
   "cell_type": "markdown",
   "metadata": {},
   "source": [
    "### keyDict key与value置换（keyDcitRe），选出在excel和文书都存在的案件==>keyDcitReplace\n",
    "datadictFinal为excel2018-2019内的案号与案件标识"
   ]
  },
  {
   "cell_type": "code",
   "execution_count": 52,
   "metadata": {
    "collapsed": false
   },
   "outputs": [],
   "source": [
    "#datadictFinal为excel2018-2019内的案号与案件标识\n",
    "datadictFinal={}\n",
    "datadictFinal.update(datadict0)\n",
    "datadictFinal.update(predict0)"
   ]
  },
  {
   "cell_type": "code",
   "execution_count": 53,
   "metadata": {
    "collapsed": false
   },
   "outputs": [],
   "source": [
    "#data_pre.head()\n",
    "# data.head(1)"
   ]
  },
  {
   "cell_type": "code",
   "execution_count": 153,
   "metadata": {
    "collapsed": false
   },
   "outputs": [
    {
     "data": {
      "text/plain": [
       "{'案由': '劳动争议', '案件得分': 7.0, '实际时间': 88, '法官id': 484, '适用程序': '简易程序(小额诉讼)'}"
      ]
     },
     "execution_count": 153,
     "metadata": {},
     "output_type": "execute_result"
    }
   ],
   "source": [
    "datadictFinal['(2019)渝0112民初9935号']"
   ]
  },
  {
   "cell_type": "code",
   "execution_count": 55,
   "metadata": {
    "collapsed": false
   },
   "outputs": [],
   "source": [
    "def keyReplace0(keyDict):\n",
    "    keyDcitRe={}\n",
    "    for key in keyDict:\n",
    "        keyDcitRe[keyDict[key]]=key\n",
    "    return keyDcitRe\n",
    "def keyReplace(datadictFinal,keyDict):\n",
    "    keyDcitRe=keyReplace0(keyDict)\n",
    "    keyDcitReplace={}\n",
    "    biaoshiKey={}\n",
    "    notExcel={}\n",
    "    for key in keyDcitRe:\n",
    "        temp = keyDcitRe[key]\n",
    "        key=key.replace('（','(')\n",
    "        key=key.replace('）',')')\n",
    "        if key in datadictFinal:\n",
    "            keyDcitReplace[key] = temp\n",
    "            biaoshiKey[temp]=key\n",
    "        else:\n",
    "            notExcel[key]=temp\n",
    "    return keyDcitReplace,biaoshiKey,notExcel"
   ]
  },
  {
   "cell_type": "code",
   "execution_count": 56,
   "metadata": {
    "collapsed": true
   },
   "outputs": [],
   "source": [
    "def getKeyDictReplace(datadictFinal,keyDict):\n",
    "    keyDcitReplace,biaoshiKey,notExcel=keyReplace(datadictFinal,keyDict)\n",
    "    return keyDcitReplace,biaoshiKey,notExcel"
   ]
  },
  {
   "cell_type": "code",
   "execution_count": 57,
   "metadata": {
    "collapsed": true
   },
   "outputs": [],
   "source": [
    "keyDcitReplace,biaoshiKey,notExcel=getKeyDictReplace(datadictFinal,keyDict)"
   ]
  },
  {
   "cell_type": "code",
   "execution_count": 58,
   "metadata": {
    "collapsed": false
   },
   "outputs": [
    {
     "data": {
      "text/plain": [
       "31501"
      ]
     },
     "execution_count": 58,
     "metadata": {},
     "output_type": "execute_result"
    }
   ],
   "source": [
    "len(keyDcitReplace)#\n",
    "#{'(2019)渝0112民初9935号': 'M1D_7cc626c2-50c2-4921-a27e-ec10428feaa8',\n",
    "#  '(2019)渝0112民初33199号': 'M1D_0684a933-2245-486b-9020-df4d4182158f',"
   ]
  },
  {
   "cell_type": "markdown",
   "metadata": {},
   "source": [
    "### 统计法官工作量"
   ]
  },
  {
   "cell_type": "code",
   "execution_count": null,
   "metadata": {
    "collapsed": true
   },
   "outputs": [],
   "source": [
    "def work(judge2id0,judge2id1):\n",
    "    data.drop(['Unnamed: 22'],axis=1,inplace=True)\n",
    "    excel_data=data.append(data_pre)\n",
    "    excel_data2= pd.DataFrame(columns=excel_data.columns.values )#两方都在的案件信息\n",
    "    drop_excel=[]#统计不在文书集中的案件\n",
    "    kk=0\n",
    "    for index, row in excel_data.iterrows():\n",
    "\n",
    "        if row[2] not in keyDcitReplace:\n",
    "            drop_excel.append(index);\n",
    "        else:\n",
    "            excel_data2.loc[kk] = row;\n",
    "            kk=kk+1\n",
    "    print(len(excel_data)-len(drop_excel)==len(excel_data2))#判断是否正确\n",
    "    excel_data2_0=excel_data2[excel_data2['法院']=='重庆市江北区人民法院']\n",
    "    excel_data2_0['法官id']=excel_data2_0['承办人'].apply(lambda x:judge2id0[x] if x in judge2id0 else 0)\n",
    "    excel_data2_1=excel_data2[excel_data2['法院']=='重庆市渝北区人民法院']\n",
    "    excel_data2_1['法官id']=excel_data2_0['承办人'].apply(lambda x:judge2id1[x] if x in judge2id1 else 0)\n",
    "    excel_data2_p=excel_data2_0.append(excel_data2_1);\n",
    "    excel_data2_p['工作量']=0\n",
    "    # temp['立案日期'].apply(lambda x:x.strftime(\"%Y-%m-%d %H:%M:%S\"));datetime转字符串\n",
    "    for index,row in excel_data2_p.iterrows():\n",
    "    #     print(row[11])\n",
    "        temp=excel_data2_p[excel_data2_p['法官id']==row[23]]\n",
    "        excel_data2_p.loc[index,'工作量']=len(temp[(temp['立案日期']<=pd.to_datetime(row[11])) & (temp['结案日期']>pd.to_datetime(row[11]))])\n",
    "    return excel_data2_p"
   ]
  },
  {
   "cell_type": "code",
   "execution_count": 59,
   "metadata": {
    "collapsed": false
   },
   "outputs": [
    {
     "data": {
      "text/html": [
       "<div>\n",
       "<style scoped>\n",
       "    .dataframe tbody tr th:only-of-type {\n",
       "        vertical-align: middle;\n",
       "    }\n",
       "\n",
       "    .dataframe tbody tr th {\n",
       "        vertical-align: top;\n",
       "    }\n",
       "\n",
       "    .dataframe thead th {\n",
       "        text-align: right;\n",
       "    }\n",
       "</style>\n",
       "<table border=\"1\" class=\"dataframe\">\n",
       "  <thead>\n",
       "    <tr style=\"text-align: right;\">\n",
       "      <th></th>\n",
       "      <th>案件标识</th>\n",
       "      <th>法院</th>\n",
       "      <th>案号</th>\n",
       "      <th>立案案由</th>\n",
       "      <th>原告</th>\n",
       "      <th>被告</th>\n",
       "      <th>承办部门</th>\n",
       "      <th>承办人</th>\n",
       "      <th>申请标的</th>\n",
       "      <th>适用程序</th>\n",
       "      <th>...</th>\n",
       "      <th>分案日期</th>\n",
       "      <th>报结日期</th>\n",
       "      <th>结案日期</th>\n",
       "      <th>结案方式</th>\n",
       "      <th>裁判文书</th>\n",
       "      <th>法定审理天数</th>\n",
       "      <th>实际审理天数</th>\n",
       "      <th>计算结果</th>\n",
       "      <th>Unnamed: 22</th>\n",
       "      <th>差值判断</th>\n",
       "    </tr>\n",
       "  </thead>\n",
       "  <tbody>\n",
       "    <tr>\n",
       "      <th>0</th>\n",
       "      <td>00055d19-b4a4-4672-9469-dc088ca360c7</td>\n",
       "      <td>重庆市江北区人民法院</td>\n",
       "      <td>(2018)渝0105民初34609号</td>\n",
       "      <td>信用卡纠纷</td>\n",
       "      <td>兴业银行股份有限公司信用卡中心</td>\n",
       "      <td>刘祖康</td>\n",
       "      <td>金融审判庭</td>\n",
       "      <td>毛亚男</td>\n",
       "      <td>53984</td>\n",
       "      <td>简易程序（非小额诉讼）</td>\n",
       "      <td>...</td>\n",
       "      <td>2018-10-22 00:00:00</td>\n",
       "      <td>2018-12-13 00:00:00</td>\n",
       "      <td>2018-12-14</td>\n",
       "      <td>判决</td>\n",
       "      <td>民事判决书（当事人对案件事实没有争议的用）</td>\n",
       "      <td>92</td>\n",
       "      <td>57</td>\n",
       "      <td>57</td>\n",
       "      <td>NaN</td>\n",
       "      <td>0</td>\n",
       "    </tr>\n",
       "  </tbody>\n",
       "</table>\n",
       "<p>1 rows × 24 columns</p>\n",
       "</div>"
      ],
      "text/plain": [
       "                                   案件标识          法院                   案号  \\\n",
       "0  00055d19-b4a4-4672-9469-dc088ca360c7  重庆市江北区人民法院  (2018)渝0105民初34609号   \n",
       "\n",
       "    立案案由               原告   被告   承办部门  承办人   申请标的         适用程序  ...  \\\n",
       "0  信用卡纠纷  兴业银行股份有限公司信用卡中心  刘祖康  金融审判庭  毛亚男  53984  简易程序（非小额诉讼）  ...   \n",
       "\n",
       "                  分案日期                 报结日期       结案日期 结案方式  \\\n",
       "0  2018-10-22 00:00:00  2018-12-13 00:00:00 2018-12-14   判决   \n",
       "\n",
       "                    裁判文书 法定审理天数 实际审理天数 计算结果 Unnamed: 22  差值判断  \n",
       "0  民事判决书（当事人对案件事实没有争议的用）     92     57   57         NaN     0  \n",
       "\n",
       "[1 rows x 24 columns]"
      ]
     },
     "execution_count": 59,
     "metadata": {},
     "output_type": "execute_result"
    }
   ],
   "source": [
    "data.head(1)"
   ]
  },
  {
   "cell_type": "code",
   "execution_count": 60,
   "metadata": {
    "collapsed": false
   },
   "outputs": [],
   "source": [
    "data.drop(['Unnamed: 22'],axis=1,inplace=True)"
   ]
  },
  {
   "cell_type": "code",
   "execution_count": 61,
   "metadata": {
    "collapsed": false
   },
   "outputs": [
    {
     "data": {
      "text/html": [
       "<div>\n",
       "<style scoped>\n",
       "    .dataframe tbody tr th:only-of-type {\n",
       "        vertical-align: middle;\n",
       "    }\n",
       "\n",
       "    .dataframe tbody tr th {\n",
       "        vertical-align: top;\n",
       "    }\n",
       "\n",
       "    .dataframe thead th {\n",
       "        text-align: right;\n",
       "    }\n",
       "</style>\n",
       "<table border=\"1\" class=\"dataframe\">\n",
       "  <thead>\n",
       "    <tr style=\"text-align: right;\">\n",
       "      <th></th>\n",
       "      <th>案件标识</th>\n",
       "      <th>法院</th>\n",
       "      <th>案号</th>\n",
       "      <th>立案案由</th>\n",
       "      <th>原告</th>\n",
       "      <th>被告</th>\n",
       "      <th>承办部门</th>\n",
       "      <th>承办人</th>\n",
       "      <th>申请标的</th>\n",
       "      <th>适用程序</th>\n",
       "      <th>...</th>\n",
       "      <th>签收日期</th>\n",
       "      <th>分案日期</th>\n",
       "      <th>报结日期</th>\n",
       "      <th>结案日期</th>\n",
       "      <th>结案方式</th>\n",
       "      <th>裁判文书</th>\n",
       "      <th>法定审理天数</th>\n",
       "      <th>实际审理天数</th>\n",
       "      <th>计算结果</th>\n",
       "      <th>差值判断</th>\n",
       "    </tr>\n",
       "  </thead>\n",
       "  <tbody>\n",
       "    <tr>\n",
       "      <th>0</th>\n",
       "      <td>00077602-304a-4a5c-a069-96e2ae933f11</td>\n",
       "      <td>重庆市江北区人民法院</td>\n",
       "      <td>(2018)渝0105民初31680号</td>\n",
       "      <td>信用卡纠纷</td>\n",
       "      <td>兴业银行股份有限公司信用卡中心</td>\n",
       "      <td>伯春艳</td>\n",
       "      <td>金融审判庭</td>\n",
       "      <td>郭雪妍</td>\n",
       "      <td>50838.4</td>\n",
       "      <td>简易程序（非小额诉讼）</td>\n",
       "      <td>...</td>\n",
       "      <td>2018-08-01</td>\n",
       "      <td>2018-08-01</td>\n",
       "      <td>2018-09-10 00:00:00</td>\n",
       "      <td>2018-09-10</td>\n",
       "      <td>判决</td>\n",
       "      <td>民事判决书(一审简易程序用)</td>\n",
       "      <td>92</td>\n",
       "      <td>45</td>\n",
       "      <td>45</td>\n",
       "      <td>0</td>\n",
       "    </tr>\n",
       "  </tbody>\n",
       "</table>\n",
       "<p>1 rows × 23 columns</p>\n",
       "</div>"
      ],
      "text/plain": [
       "                                   案件标识          法院                   案号  \\\n",
       "0  00077602-304a-4a5c-a069-96e2ae933f11  重庆市江北区人民法院  (2018)渝0105民初31680号   \n",
       "\n",
       "    立案案由               原告   被告   承办部门  承办人     申请标的         适用程序  ...  \\\n",
       "0  信用卡纠纷  兴业银行股份有限公司信用卡中心  伯春艳  金融审判庭  郭雪妍  50838.4  简易程序（非小额诉讼）  ...   \n",
       "\n",
       "        签收日期       分案日期                 报结日期       结案日期 结案方式            裁判文书  \\\n",
       "0 2018-08-01 2018-08-01  2018-09-10 00:00:00 2018-09-10   判决  民事判决书(一审简易程序用)   \n",
       "\n",
       "  法定审理天数 实际审理天数 计算结果  差值判断  \n",
       "0     92     45   45     0  \n",
       "\n",
       "[1 rows x 23 columns]"
      ]
     },
     "execution_count": 61,
     "metadata": {},
     "output_type": "execute_result"
    }
   ],
   "source": [
    "data_pre.head(1)"
   ]
  },
  {
   "cell_type": "code",
   "execution_count": 63,
   "metadata": {
    "collapsed": false
   },
   "outputs": [],
   "source": [
    "excel_data=data.append(data_pre)"
   ]
  },
  {
   "cell_type": "code",
   "execution_count": 64,
   "metadata": {
    "collapsed": false
   },
   "outputs": [
    {
     "data": {
      "text/plain": [
       "37894"
      ]
     },
     "execution_count": 64,
     "metadata": {},
     "output_type": "execute_result"
    }
   ],
   "source": [
    "len(excel_data)"
   ]
  },
  {
   "cell_type": "code",
   "execution_count": 65,
   "metadata": {
    "collapsed": false,
    "scrolled": true
   },
   "outputs": [
    {
     "data": {
      "text/html": [
       "<div>\n",
       "<style scoped>\n",
       "    .dataframe tbody tr th:only-of-type {\n",
       "        vertical-align: middle;\n",
       "    }\n",
       "\n",
       "    .dataframe tbody tr th {\n",
       "        vertical-align: top;\n",
       "    }\n",
       "\n",
       "    .dataframe thead th {\n",
       "        text-align: right;\n",
       "    }\n",
       "</style>\n",
       "<table border=\"1\" class=\"dataframe\">\n",
       "  <thead>\n",
       "    <tr style=\"text-align: right;\">\n",
       "      <th></th>\n",
       "      <th>案件标识</th>\n",
       "      <th>法院</th>\n",
       "      <th>案号</th>\n",
       "      <th>立案案由</th>\n",
       "      <th>原告</th>\n",
       "      <th>被告</th>\n",
       "      <th>承办部门</th>\n",
       "      <th>承办人</th>\n",
       "      <th>申请标的</th>\n",
       "      <th>适用程序</th>\n",
       "      <th>...</th>\n",
       "      <th>签收日期</th>\n",
       "      <th>分案日期</th>\n",
       "      <th>报结日期</th>\n",
       "      <th>结案日期</th>\n",
       "      <th>结案方式</th>\n",
       "      <th>裁判文书</th>\n",
       "      <th>法定审理天数</th>\n",
       "      <th>实际审理天数</th>\n",
       "      <th>计算结果</th>\n",
       "      <th>差值判断</th>\n",
       "    </tr>\n",
       "  </thead>\n",
       "  <tbody>\n",
       "    <tr>\n",
       "      <th>0</th>\n",
       "      <td>00055d19-b4a4-4672-9469-dc088ca360c7</td>\n",
       "      <td>重庆市江北区人民法院</td>\n",
       "      <td>(2018)渝0105民初34609号</td>\n",
       "      <td>信用卡纠纷</td>\n",
       "      <td>兴业银行股份有限公司信用卡中心</td>\n",
       "      <td>刘祖康</td>\n",
       "      <td>金融审判庭</td>\n",
       "      <td>毛亚男</td>\n",
       "      <td>53984</td>\n",
       "      <td>简易程序（非小额诉讼）</td>\n",
       "      <td>...</td>\n",
       "      <td>2018-10-22</td>\n",
       "      <td>2018-10-22 00:00:00</td>\n",
       "      <td>2018-12-13 00:00:00</td>\n",
       "      <td>2018-12-14</td>\n",
       "      <td>判决</td>\n",
       "      <td>民事判决书（当事人对案件事实没有争议的用）</td>\n",
       "      <td>92</td>\n",
       "      <td>57</td>\n",
       "      <td>57</td>\n",
       "      <td>0</td>\n",
       "    </tr>\n",
       "  </tbody>\n",
       "</table>\n",
       "<p>1 rows × 23 columns</p>\n",
       "</div>"
      ],
      "text/plain": [
       "                                   案件标识          法院                   案号  \\\n",
       "0  00055d19-b4a4-4672-9469-dc088ca360c7  重庆市江北区人民法院  (2018)渝0105民初34609号   \n",
       "\n",
       "    立案案由               原告   被告   承办部门  承办人   申请标的         适用程序  ...  \\\n",
       "0  信用卡纠纷  兴业银行股份有限公司信用卡中心  刘祖康  金融审判庭  毛亚男  53984  简易程序（非小额诉讼）  ...   \n",
       "\n",
       "        签收日期                 分案日期                 报结日期       结案日期 结案方式  \\\n",
       "0 2018-10-22  2018-10-22 00:00:00  2018-12-13 00:00:00 2018-12-14   判决   \n",
       "\n",
       "                    裁判文书 法定审理天数 实际审理天数 计算结果  差值判断  \n",
       "0  民事判决书（当事人对案件事实没有争议的用）     92     57   57     0  \n",
       "\n",
       "[1 rows x 23 columns]"
      ]
     },
     "execution_count": 65,
     "metadata": {},
     "output_type": "execute_result"
    }
   ],
   "source": [
    "excel_data.head(1)"
   ]
  },
  {
   "cell_type": "code",
   "execution_count": 66,
   "metadata": {
    "collapsed": false
   },
   "outputs": [
    {
     "data": {
      "text/html": [
       "<div>\n",
       "<style scoped>\n",
       "    .dataframe tbody tr th:only-of-type {\n",
       "        vertical-align: middle;\n",
       "    }\n",
       "\n",
       "    .dataframe tbody tr th {\n",
       "        vertical-align: top;\n",
       "    }\n",
       "\n",
       "    .dataframe thead th {\n",
       "        text-align: right;\n",
       "    }\n",
       "</style>\n",
       "<table border=\"1\" class=\"dataframe\">\n",
       "  <thead>\n",
       "    <tr style=\"text-align: right;\">\n",
       "      <th></th>\n",
       "      <th>案件标识</th>\n",
       "      <th>法院</th>\n",
       "      <th>案号</th>\n",
       "      <th>立案案由</th>\n",
       "      <th>原告</th>\n",
       "      <th>被告</th>\n",
       "      <th>承办部门</th>\n",
       "      <th>承办人</th>\n",
       "      <th>申请标的</th>\n",
       "      <th>适用程序</th>\n",
       "      <th>...</th>\n",
       "      <th>签收日期</th>\n",
       "      <th>分案日期</th>\n",
       "      <th>报结日期</th>\n",
       "      <th>结案日期</th>\n",
       "      <th>结案方式</th>\n",
       "      <th>裁判文书</th>\n",
       "      <th>法定审理天数</th>\n",
       "      <th>实际审理天数</th>\n",
       "      <th>计算结果</th>\n",
       "      <th>差值判断</th>\n",
       "    </tr>\n",
       "  </thead>\n",
       "  <tbody>\n",
       "  </tbody>\n",
       "</table>\n",
       "<p>0 rows × 23 columns</p>\n",
       "</div>"
      ],
      "text/plain": [
       "Empty DataFrame\n",
       "Columns: [案件标识, 法院, 案号, 立案案由, 原告, 被告, 承办部门, 承办人, 申请标的, 适用程序, 收案日期, 立案日期, 移送日期, 签收日期, 分案日期, 报结日期, 结案日期, 结案方式, 裁判文书, 法定审理天数, 实际审理天数, 计算结果, 差值判断]\n",
       "Index: []\n",
       "\n",
       "[0 rows x 23 columns]"
      ]
     },
     "execution_count": 66,
     "metadata": {},
     "output_type": "execute_result"
    }
   ],
   "source": [
    "excel_data2= pd.DataFrame(columns=excel_data.columns.values )"
   ]
  },
  {
   "cell_type": "code",
   "execution_count": 75,
   "metadata": {
    "collapsed": false
   },
   "outputs": [],
   "source": [
    "# excel_data2= pd.DataFrame(excel_data.)\n",
    "drop_excel=[]\n",
    "kk=0\n",
    "for index, row in excel_data.iterrows():\n",
    "    \n",
    "    if row[2] not in keyDcitReplace:\n",
    "        drop_excel.append(index);\n",
    "    else:\n",
    "        excel_data2.loc[kk] = row;\n",
    "        kk=kk+1\n",
    "        "
   ]
  },
  {
   "cell_type": "code",
   "execution_count": 154,
   "metadata": {
    "collapsed": false
   },
   "outputs": [
    {
     "name": "stdout",
     "output_type": "stream",
     "text": [
      "<class 'pandas.core.frame.DataFrame'>\n",
      "Int64Index: 31501 entries, 0 to 31500\n",
      "Data columns (total 23 columns):\n",
      "案件标识      31501 non-null object\n",
      "法院        31501 non-null object\n",
      "案号        31501 non-null object\n",
      "立案案由      31501 non-null object\n",
      "原告        31501 non-null object\n",
      "被告        31501 non-null object\n",
      "承办部门      31501 non-null object\n",
      "承办人       31501 non-null object\n",
      "申请标的      31501 non-null object\n",
      "适用程序      31501 non-null object\n",
      "收案日期      31501 non-null datetime64[ns]\n",
      "立案日期      31501 non-null datetime64[ns]\n",
      "移送日期      31501 non-null object\n",
      "签收日期      31501 non-null datetime64[ns]\n",
      "分案日期      31501 non-null object\n",
      "报结日期      31501 non-null object\n",
      "结案日期      31501 non-null datetime64[ns]\n",
      "结案方式      31501 non-null object\n",
      "裁判文书      31501 non-null object\n",
      "法定审理天数    31501 non-null int64\n",
      "实际审理天数    31501 non-null int64\n",
      "计算结果      31501 non-null int64\n",
      "差值判断      31501 non-null int64\n",
      "dtypes: datetime64[ns](4), int64(4), object(15)\n",
      "memory usage: 7.0+ MB\n"
     ]
    }
   ],
   "source": [
    "excel_data2.info()"
   ]
  },
  {
   "cell_type": "code",
   "execution_count": 78,
   "metadata": {
    "collapsed": false
   },
   "outputs": [
    {
     "data": {
      "text/plain": [
       "6393"
      ]
     },
     "execution_count": 78,
     "metadata": {},
     "output_type": "execute_result"
    }
   ],
   "source": [
    "len(drop_excel)"
   ]
  },
  {
   "cell_type": "code",
   "execution_count": 79,
   "metadata": {
    "collapsed": false
   },
   "outputs": [],
   "source": [
    "drop_excel;"
   ]
  },
  {
   "cell_type": "code",
   "execution_count": 80,
   "metadata": {
    "collapsed": false
   },
   "outputs": [
    {
     "data": {
      "text/plain": [
       "31501"
      ]
     },
     "execution_count": 80,
     "metadata": {},
     "output_type": "execute_result"
    }
   ],
   "source": [
    "len(excel_data)-len(drop_excel)"
   ]
  },
  {
   "cell_type": "code",
   "execution_count": 90,
   "metadata": {
    "collapsed": false
   },
   "outputs": [
    {
     "name": "stderr",
     "output_type": "stream",
     "text": [
      "/home/huipu/.local/lib/python3.6/site-packages/ipykernel_launcher.py:2: SettingWithCopyWarning: \n",
      "A value is trying to be set on a copy of a slice from a DataFrame.\n",
      "Try using .loc[row_indexer,col_indexer] = value instead\n",
      "\n",
      "See the caveats in the documentation: http://pandas.pydata.org/pandas-docs/stable/indexing.html#indexing-view-versus-copy\n",
      "  \n",
      "/home/huipu/.local/lib/python3.6/site-packages/ipykernel_launcher.py:4: SettingWithCopyWarning: \n",
      "A value is trying to be set on a copy of a slice from a DataFrame.\n",
      "Try using .loc[row_indexer,col_indexer] = value instead\n",
      "\n",
      "See the caveats in the documentation: http://pandas.pydata.org/pandas-docs/stable/indexing.html#indexing-view-versus-copy\n",
      "  after removing the cwd from sys.path.\n"
     ]
    }
   ],
   "source": [
    "excel_data2_0=excel_data2[excel_data2['法院']=='重庆市江北区人民法院']\n",
    "excel_data2_0['法官id']=excel_data2_0['承办人'].apply(lambda x:judge2id0[x] if x in judge2id0 else 0)\n",
    "excel_data2_1=excel_data2[excel_data2['法院']=='重庆市渝北区人民法院']\n",
    "excel_data2_1['法官id']=excel_data2_0['承办人'].apply(lambda x:judge2id1[x] if x in judge2id1 else 0)\n",
    "excel_data2_p=excel_data2_0.append(excel_data2_1);"
   ]
  },
  {
   "cell_type": "code",
   "execution_count": 140,
   "metadata": {
    "collapsed": false
   },
   "outputs": [],
   "source": [
    "excel_data2_p['工作量']=0\n",
    "# temp['立案日期'].apply(lambda x:x.strftime(\"%Y-%m-%d %H:%M:%S\"));datetime转字符串\n",
    "for index,row in excel_data2_p.iterrows():\n",
    "#     print(row[11])\n",
    "    temp=excel_data2_p[excel_data2_p['法官id']==row[23]]\n",
    "    excel_data2_p.loc[index,'工作量']=len(temp[(temp['立案日期']<=pd.to_datetime(row[11])) & (temp['结案日期']>pd.to_datetime(row[11]))])\n"
   ]
  },
  {
   "cell_type": "code",
   "execution_count": 141,
   "metadata": {
    "collapsed": false
   },
   "outputs": [
    {
     "data": {
      "text/html": [
       "<div>\n",
       "<style scoped>\n",
       "    .dataframe tbody tr th:only-of-type {\n",
       "        vertical-align: middle;\n",
       "    }\n",
       "\n",
       "    .dataframe tbody tr th {\n",
       "        vertical-align: top;\n",
       "    }\n",
       "\n",
       "    .dataframe thead th {\n",
       "        text-align: right;\n",
       "    }\n",
       "</style>\n",
       "<table border=\"1\" class=\"dataframe\">\n",
       "  <thead>\n",
       "    <tr style=\"text-align: right;\">\n",
       "      <th></th>\n",
       "      <th>案件标识</th>\n",
       "      <th>法院</th>\n",
       "      <th>案号</th>\n",
       "      <th>立案案由</th>\n",
       "      <th>原告</th>\n",
       "      <th>被告</th>\n",
       "      <th>承办部门</th>\n",
       "      <th>承办人</th>\n",
       "      <th>申请标的</th>\n",
       "      <th>适用程序</th>\n",
       "      <th>...</th>\n",
       "      <th>报结日期</th>\n",
       "      <th>结案日期</th>\n",
       "      <th>结案方式</th>\n",
       "      <th>裁判文书</th>\n",
       "      <th>法定审理天数</th>\n",
       "      <th>实际审理天数</th>\n",
       "      <th>计算结果</th>\n",
       "      <th>差值判断</th>\n",
       "      <th>法官id</th>\n",
       "      <th>工作量</th>\n",
       "    </tr>\n",
       "  </thead>\n",
       "  <tbody>\n",
       "    <tr>\n",
       "      <th>0</th>\n",
       "      <td>0012e26f-a00c-4540-839d-b82aca6aeb18</td>\n",
       "      <td>重庆市江北区人民法院</td>\n",
       "      <td>(2018)渝0105民初31379号</td>\n",
       "      <td>金融借款合同纠纷</td>\n",
       "      <td>中国民生银行股份有限公司重庆分行</td>\n",
       "      <td>陈剑芳,何文任</td>\n",
       "      <td>金融审判庭</td>\n",
       "      <td>张静</td>\n",
       "      <td>819018</td>\n",
       "      <td>普通程序</td>\n",
       "      <td>...</td>\n",
       "      <td>2018-12-21 00:00:00</td>\n",
       "      <td>2018-12-21</td>\n",
       "      <td>判决</td>\n",
       "      <td>民事判决书（一审普通程序用—全面版）</td>\n",
       "      <td>184</td>\n",
       "      <td>94</td>\n",
       "      <td>155</td>\n",
       "      <td>0</td>\n",
       "      <td>1</td>\n",
       "      <td>5151</td>\n",
       "    </tr>\n",
       "  </tbody>\n",
       "</table>\n",
       "<p>1 rows × 25 columns</p>\n",
       "</div>"
      ],
      "text/plain": [
       "                                   案件标识          法院                   案号  \\\n",
       "0  0012e26f-a00c-4540-839d-b82aca6aeb18  重庆市江北区人民法院  (2018)渝0105民初31379号   \n",
       "\n",
       "       立案案由                原告       被告   承办部门 承办人    申请标的  适用程序  ...  \\\n",
       "0  金融借款合同纠纷  中国民生银行股份有限公司重庆分行  陈剑芳,何文任  金融审判庭  张静  819018  普通程序  ...   \n",
       "\n",
       "                  报结日期       结案日期 结案方式                裁判文书 法定审理天数 实际审理天数 计算结果  \\\n",
       "0  2018-12-21 00:00:00 2018-12-21   判决  民事判决书（一审普通程序用—全面版）    184     94  155   \n",
       "\n",
       "  差值判断 法官id   工作量  \n",
       "0    0    1  5151  \n",
       "\n",
       "[1 rows x 25 columns]"
      ]
     },
     "execution_count": 141,
     "metadata": {},
     "output_type": "execute_result"
    }
   ],
   "source": [
    "excel_data2_p.head(1)"
   ]
  },
  {
   "cell_type": "code",
   "execution_count": 143,
   "metadata": {
    "collapsed": false
   },
   "outputs": [
    {
     "name": "stdout",
     "output_type": "stream",
     "text": [
      "<class 'pandas.core.frame.DataFrame'>\n",
      "Int64Index: 31501 entries, 0 to 31500\n",
      "Data columns (total 25 columns):\n",
      "案件标识      31501 non-null object\n",
      "法院        31501 non-null object\n",
      "案号        31501 non-null object\n",
      "立案案由      31501 non-null object\n",
      "原告        31501 non-null object\n",
      "被告        31501 non-null object\n",
      "承办部门      31501 non-null object\n",
      "承办人       31501 non-null object\n",
      "申请标的      31501 non-null object\n",
      "适用程序      31501 non-null object\n",
      "收案日期      31501 non-null datetime64[ns]\n",
      "立案日期      31501 non-null datetime64[ns]\n",
      "移送日期      31501 non-null object\n",
      "签收日期      31501 non-null datetime64[ns]\n",
      "分案日期      31501 non-null object\n",
      "报结日期      31501 non-null object\n",
      "结案日期      31501 non-null datetime64[ns]\n",
      "结案方式      31501 non-null object\n",
      "裁判文书      31501 non-null object\n",
      "法定审理天数    31501 non-null int64\n",
      "实际审理天数    31501 non-null int64\n",
      "计算结果      31501 non-null int64\n",
      "差值判断      31501 non-null int64\n",
      "法官id      31501 non-null int64\n",
      "工作量       31501 non-null int64\n",
      "dtypes: datetime64[ns](4), int64(6), object(15)\n",
      "memory usage: 7.5+ MB\n"
     ]
    }
   ],
   "source": [
    "excel_data2_p.info()"
   ]
  },
  {
   "cell_type": "code",
   "execution_count": 157,
   "metadata": {
    "collapsed": true
   },
   "outputs": [],
   "source": [
    "rootw=os.path.join(path,'数据清洗后','18Data')\n",
    "excel_data2_p.to_csv(os.path.join(rootw,'已计算工作量.csv')) "
   ]
  },
  {
   "cell_type": "markdown",
   "metadata": {},
   "source": [
    "### 提取描述"
   ]
  },
  {
   "cell_type": "code",
   "execution_count": 145,
   "metadata": {
    "collapsed": true
   },
   "outputs": [],
   "source": [
    "import json\n",
    "import os\n",
    "from docx import Document\n",
    "import re\n",
    "import pickle\n",
    "#将案件标识与案号关联:keyDict\n",
    "#root为文书存放目录名，path为保存keyDict的文件名\n",
    "def signDict(rootw,pathn):\n",
    "    #保存三个文件：keyDict,table,notFindDoc\n",
    "    keyDict={}#将案件标识与案号关联\n",
    "    table=[]#以表格形式存在的文书\n",
    "    notFindDoc = []#不是以docx结尾的文书（格式转换未成功的文书）\n",
    "    if os.path.exists(os.path.join(rootw,pathn)):\n",
    "        read_file = open(os.path.join(rootw,pathn), 'rb')\n",
    "        keyDict = pickle.load(read_file)\n",
    "        read_file.close()\n",
    "        read_file = open(os.path.join(rootw,'table.pkl'), 'rb')\n",
    "        table = pickle.load(read_file)\n",
    "        read_file.close()\n",
    "        read_file = open(os.path.join(rootw,'notFindDoc.pkl'), 'rb')\n",
    "        notFindDoc = pickle.load(read_file)\n",
    "        read_file.close()\n",
    "    else:\n",
    "        for f in os.listdir(rootw):\n",
    "            root2=os.path.join(rootw, f)\n",
    "            for key_ in os.listdir(root2) :\n",
    "                key = os.path.join(root2,key_)\n",
    "                try:\n",
    "                    if key.endswith(\".docx\"):\n",
    "                        document = Document(key)\n",
    "                        paras = list()\n",
    "                        for p in document.paragraphs:\n",
    "                            if p.text.strip() != \"\":\n",
    "                                paras.append(p.text.strip())\n",
    "                        # if(len(paras)==0):\n",
    "                        #     tables = document.tables\n",
    "                        #     for t in tables:\n",
    "                        #         for r in t.rows:\n",
    "                        #             for c in r.cells:\n",
    "                        #                 for p in c.paragraphs:\n",
    "                        #                     if p.text.strip() != \"\":\n",
    "                        #                         paras.append(p.text.strip())\n",
    "                        keyDict[key_.split('.')[0]]=paras[2]\n",
    "                    else:\n",
    "                        notFindDoc.append(key)\n",
    "                except:\n",
    "                    table.append(key)\n",
    "        output = open(os.path.join(rootw,pathn), 'wb')\n",
    "        pickle.dump(keyDict, output,True)\n",
    "        output.close()\n",
    "        output = open(os.path.join(rootw,'table.pkl'), 'wb')\n",
    "        pickle.dump(table, output,True)\n",
    "        output.close()\n",
    "        output = open(os.path.join(rootw,'notFindDoc.pkl'), 'wb')\n",
    "        pickle.dump(notFindDoc, output,True)\n",
    "        output.close()\n",
    "    print('keyDict',len(keyDict),'table',len(table),'notFindDoc',len(notFindDoc))\n",
    "    return keyDict,table,notFindDoc\n",
    "\n",
    "\n",
    "# 读取段落文字\n",
    "def readPara(doc):  # doc为待读取的文书路径\n",
    "    document = Document(doc)\n",
    "    paras=list()\n",
    "    data=list()\n",
    "    dang=\"\"\n",
    "    for p in document.paragraphs:\n",
    "        if p.text.strip() !=\"\" :\n",
    "            paras.append(p.text.strip())\n",
    "            # paras.insert(0,zhuti)\n",
    "    for i in range(len(paras)):\n",
    "        if '原告'not in paras[i] and '被告' not in paras[i]:\n",
    "            data.append(paras[i])\n",
    "        else:\n",
    "            paras=paras[i:len(paras)]\n",
    "            break\n",
    "    p1 = re.compile('原告.*案')\n",
    "    # p2=re.compile('被告.*：')\n",
    "    for i in range(len(paras)):\n",
    "        if len(p1.findall(paras[i]))==0:\n",
    "            paras[i]=paras[i].replace(\"\\n\", \"\")\n",
    "            dang=dang+paras[i].strip()\n",
    "        else:\n",
    "            paras=paras[i:len(paras)]\n",
    "            break\n",
    "    dang2 = re.split('被告', dang[10:], 1)\n",
    "    dang2[0] = dang[0:10] + dang2[0]\n",
    "    data.extend(dang2)\n",
    "    data.extend(paras)\n",
    "    return data\n",
    "\n",
    "\n",
    "#  step 1 将doc处理成字典格式--记录读取的内容到filename\n",
    "def filter0(root,filename,keyDict,rootw):#root='../rawdata/民事18_19'  rootw='../rawdata/18Data'\n",
    "    #共保存两个文件：filename,'notread.txt'\n",
    "    notread=[]\n",
    "    data=[]#目的是为了直观\n",
    "    if os.path.exists(os.path.join(rootw,filename)):\n",
    "        print(filename+'exists')\n",
    "        with open(os.path.join(rootw,filename),'r',encoding='utf-8')as f:\n",
    "            for line in f:\n",
    "                d=json.loads(line)#转成字典格式\n",
    "                data.append(d)\n",
    "    else:\n",
    "        p1 = re.compile('(.*)事实.*?理由(.*)')\n",
    "        p2=re.compile('依照(.*)规定')\n",
    "        for f in os.listdir(root):\n",
    "            root2=os.path.join(root, f)\n",
    "            for key in os.listdir(root2) :\n",
    "                key2 = os.path.join(root2,key)\n",
    "                datatemp = dict()\n",
    "#                 temp = key.split('.')[0]\n",
    "                if key.split('.')[0] in keyDict:\n",
    "                    try:\n",
    "                        paras = readPara(key2)\n",
    "                        if len(paras) == 0:\n",
    "                            notread.append(key)\n",
    "                        if len(paras) > 0:\n",
    "                            datatemp['key']=keyDict[key.split('.')[0]]\n",
    "                            datatemp['原告'] = paras[3]\n",
    "                            datatemp['被告'] = paras[4]\n",
    "                            datatemp['案由+程序'] = paras[5]\n",
    "\n",
    "                            if '请求' in paras[6]:\n",
    "                                temp = p1.findall(paras[6])\n",
    "                                if len(temp) > 0:\n",
    "                                    temp = temp[0]\n",
    "                                    if len(temp[1]) > 5:\n",
    "                                        datatemp['诉讼请求'] = temp[0]\n",
    "                                        datatemp['事实理由'] = temp[1]\n",
    "                                    else:\n",
    "                                        datatemp['诉讼请求'] = paras[6]\n",
    "                                        datatemp['事实理由'] = paras[7]\n",
    "                                else:\n",
    "                                    datatemp['诉讼请求'] = paras[6]\n",
    "                                    datatemp['事实理由'] = paras[7]\n",
    "                                if('经审理' in paras[9]):\n",
    "                                    datatemp['事实理由'] = paras[9]\n",
    "                                elif('经审理' in paras[8]):\n",
    "                                    datatemp['事实理由'] = paras[8]\n",
    "                                temp=p2.findall(paras[12])\n",
    "                                if(len(temp)>0):\n",
    "                                    datatemp['适用法条'] = temp[0]\n",
    "                                else:\n",
    "                                    datatemp['适用法条'] = ''\n",
    "                                data.append(datatemp)\n",
    "\n",
    "                            else:\n",
    "                                notread.append(key)\n",
    "                    except:\n",
    "                        notread.append(key)\n",
    "#                 else:\n",
    "#                     print(key.split('.')[0])\n",
    "                    # error.append(key)\n",
    "#                 break\n",
    "#             break\n",
    "        print('读取失败的文书',len(notread))\n",
    "        #记录读取的内容\n",
    "        with open(os.path.join(rootw,filename), 'w', encoding='utf-8')as f2:\n",
    "            f2.truncate()  # 清空文件内容\n",
    "            for key in data:\n",
    "                json.dump(key, f2, ensure_ascii=False)\n",
    "                f2.write('\\n')\n",
    "\n",
    "        #记录未读的路径\n",
    "        with open(os.path.join(rootw,'notread.txt'), \"w\") as fw:\n",
    "            fw.truncate()\n",
    "            for i in range(len(notread)):\n",
    "                print(str(notread[i]) , file=fw)\n",
    "    print('记录的文书量：',len(data))\n",
    "    return data\n",
    "\n",
    "# step 2 将以列表形式存在的json变为一个json存储-->保存在fileE中\n",
    "def jsonOne(rootw,fileB,fileE):\n",
    "    if os.path.exists(os.path.join(rootw,fileE)):\n",
    "        read_file = open(os.path.join(rootw,fileE), 'rb')\n",
    "        data = pickle.load(read_file)\n",
    "        read_file.close()\n",
    "    else:\n",
    "        with open(os.path.join(rootw,fileB), 'r', encoding='utf-8')as f:\n",
    "            data = dict()\n",
    "            for line in f:\n",
    "                d = json.loads(line)  # 转成字典格式\n",
    "                k=d['key']\n",
    "                data[k]= -1\n",
    "                del d[\"key\"]\n",
    "                data[k]=d\n",
    "        output = open(os.path.join(rootw,fileE), 'wb')\n",
    "        pickle.dump(data, output,True)\n",
    "        output.close()\n",
    "    return data\n",
    "\n",
    "# # if __name__ == '__main__':\n",
    "#     path = '../rawdata/数据清洗后'\n",
    "#     rootw = os.path.join(path, '18Data')\n",
    "# #     pathn = 'keyDict.pkl'\n",
    "# #     keyDict,table,notFindDoc=signDict(rootw,pathn)\n",
    "#     data0=filter0(rootw, 'dataRead.json', keyDcitReplace)\n",
    "#     data=jsonOne('dataRead.json', 'data.json')"
   ]
  },
  {
   "cell_type": "code",
   "execution_count": 146,
   "metadata": {
    "collapsed": false
   },
   "outputs": [
    {
     "name": "stdout",
     "output_type": "stream",
     "text": [
      "dataRead.jsonexists\n",
      "记录的文书量： 41644\n"
     ]
    }
   ],
   "source": [
    "root='../rawdata/民事18_19'\n",
    "rootw = '../rawdata/数据清洗后/18Data'\n",
    "# keyDict,table,notFindDoc=signDict(path,rootw,pathn)\n",
    "data0=filter0(root, 'dataRead.json', keyDict,rootw)"
   ]
  },
  {
   "cell_type": "code",
   "execution_count": 147,
   "metadata": {
    "collapsed": true
   },
   "outputs": [],
   "source": [
    "data=jsonOne(rootw,'dataRead.json', 'datajsonOne.json')"
   ]
  },
  {
   "cell_type": "markdown",
   "metadata": {},
   "source": [
    "### 4, 将同在文书集与excel表中的案件进行提取，输出格式：{案号：{原告，被告，案由+程序,诉讼请求，事实理由，适用法条}，}"
   ]
  },
  {
   "cell_type": "code",
   "execution_count": null,
   "metadata": {
    "collapsed": true
   },
   "outputs": [],
   "source": []
  },
  {
   "cell_type": "code",
   "execution_count": 83,
   "metadata": {
    "collapsed": true
   },
   "outputs": [],
   "source": [
    "#将同在文书集与excel表中的案件进行提取，输出格式：{案号：{原告，被告，案由+程序,诉讼请求，事实理由，适用法条}，}\n",
    "def getContent(root,dataFile,filename,biaoshiKey):#dataFile='content.json',filename='contentList.json'\n",
    "    if os.path.exists(os.path.join('../rawdata',dataFile)):\n",
    "        content=jsonOne(filename, dataFile)\n",
    "    else:\n",
    "        path = '../rawdata'\n",
    "        rootw = os.path.join(path, root)\n",
    "        data0=filter0(rootw, filename, biaoshiKey)\n",
    "        content=jsonOne(filename, dataFile)\n",
    "        return content"
   ]
  },
  {
   "cell_type": "code",
   "execution_count": 84,
   "metadata": {
    "collapsed": false
   },
   "outputs": [],
   "source": [
    "# dataFile='content.json'\n",
    "# filename='contentList.json'\n",
    "# content=getContent('2',dataFile,filename,biaoshiKey);"
   ]
  },
  {
   "cell_type": "markdown",
   "metadata": {},
   "source": [
    "### 5,获取最终数据"
   ]
  },
  {
   "cell_type": "code",
   "execution_count": 85,
   "metadata": {
    "collapsed": true
   },
   "outputs": [],
   "source": [
    "-"
   ]
  },
  {
   "cell_type": "code",
   "execution_count": 86,
   "metadata": {
    "collapsed": false
   },
   "outputs": [],
   "source": [
    "# data=combineInfo(content,datadictFinal,'data.json')"
   ]
  },
  {
   "cell_type": "markdown",
   "metadata": {},
   "source": [
    "### 6,合并所有信息"
   ]
  },
  {
   "cell_type": "code",
   "execution_count": 87,
   "metadata": {
    "collapsed": false
   },
   "outputs": [],
   "source": [
    "\n",
    " #将excel表中的数据处理，输出格式：{'案号'：{'案由','案件得分','实际时间','法官id'}}\n",
    "def getDataFinal(anyoudict1,judge2id1,anyoudict0,judge2id0):\n",
    "    root='民事案件201811-201910 （渝北、江北）.xlsx'\n",
    "    data=pd.read_excel(os.path.join(path,root))   \n",
    "    data0=data[data['法院']=='重庆市江北区人民法院']\n",
    "    data1=data[data['法院']=='重庆市渝北区人民法院']\n",
    "    root_pre='民事案件201801-10（渝北、江北）.xlsx'\n",
    "    data_pre=pd.read_excel(os.path.join(path,root_pre))   \n",
    "    data_pre0=data_pre[data_pre['法院']=='重庆市江北区人民法院']\n",
    "    data_pre1=data_pre[data_pre['法院']=='重庆市渝北区人民法院']\n",
    "    datadict1=score(data1,anyoudict1,judge2id1)\n",
    "    datadict0=score(data0,anyoudict0,judge2id0)\n",
    "    predict0=score(data_pre0,anyoudict0,judge2id0)\n",
    "    predict1=score(data_pre1,anyoudict1,judge2id1)\n",
    "    DataFinal={}\n",
    "    DataFinal.update(datadict0)\n",
    "    DataFinal.update(datadict1)\n",
    "    DataFinal.update(predict0)\n",
    "    DataFinal.update(predict1)\n",
    "    return DataFinal\n",
    "\n",
    "#将文书集中的案件标识与案号统一\n",
    "def getKeyDict(rootw,pathn):\n",
    "#     path='../rawdata'\n",
    "#     rootw=os.path.join(path,'1')\n",
    "#     pathn='keyDict.pkl'\n",
    "    keyDict,table,notFindDoc=signDict(rootw,pathn)\n",
    "    return keyDict\n",
    "\n",
    "#将同在文书集与excel表中的案号提取出来，输出格式：{'案号': '案件标识',\n",
    "def getKeyDictReplace(datadictFinal,keyDict):\n",
    "    keyDcitReplace,biaoshiKey,notExcel=keyReplace(datadictFinal,keyDict)\n",
    "    return keyDcitReplace,biaoshiKey,notExcel\n",
    "\n",
    "#将同在文书集与excel表中的案件进行提取，输出格式：{案号：{原告，被告，案由+程序,诉讼请求，事实理由，适用法条}，}\n",
    "def getContent(root,dataFile,filename,keyDcitReplace):#dataFile='content.json',filename='contentList.json'\n",
    "    if os.path.exists(os.path.join('../rawdata',dataFile)):\n",
    "        content=jsonOne(filename, dataFile)\n",
    "    else:\n",
    "        path = '../rawdata'\n",
    "        rootw = os.path.join(path, root)\n",
    "        data0=filter0(rootw, filename, keyDcitReplace)\n",
    "        content=jsonOne(filename, dataFile)\n",
    "        return content\n",
    "\n",
    "# 获取最终数据\n",
    "def combineInfo(content,datadictFinal,filename):\n",
    "    '''\n",
    "    content:保证在excel和文书集共同存在：{案号：{原告，被告，案由+程序,诉讼请求，事实理由，适用法条}，}\n",
    "    :datadictFinal: 处理后的案件列表:{案号:{'案由': '信用卡纠纷', '案件得分': 5.0, '实际时间': 57, '法官id': 51}，}\n",
    "    :filename:将数据return之前，保存在filename文件中\n",
    "    :return: 列表与json文件的组合：{'content': {'原告', '被告', '案由+程序', '诉讼请求', '事实理由'},\n",
    "                                     'detail': {'案由', '案件得分'，'实际时间'，'法官id'}}\n",
    "    '''\n",
    "    if os.path.exists(os.path.join('../rawdata',filename)):\n",
    "        read_file = open(os.path.join('../rawdata',filename), 'rb')\n",
    "        data = pickle.load(read_file)\n",
    "        read_file.close()\n",
    "    else:\n",
    "        high=0\n",
    "        low=0\n",
    "        data={}\n",
    "        for key in content:\n",
    "            if key in datadictFinal:\n",
    "                temp={}\n",
    "                temp['content']=content[key]\n",
    "                temp['detail']=datadictFinal[key]\n",
    "                if datadictFinal[key]['案件得分']>=6:\n",
    "                    high=high+1\n",
    "                else:\n",
    "                    low=low+1\n",
    "                data[key]=temp\n",
    "        output = open(os.path.join('../rawdata',filename), 'wb')\n",
    "        pickle.dump(data, output,True)\n",
    "        output.close()\n",
    "        print('>=6',high,'<6',low)\n",
    "    return data"
   ]
  },
  {
   "cell_type": "code",
   "execution_count": 90,
   "metadata": {
    "collapsed": false
   },
   "outputs": [],
   "source": [
    "# data['(2018)渝0105民初31174号']"
   ]
  },
  {
   "cell_type": "code",
   "execution_count": 72,
   "metadata": {
    "collapsed": true
   },
   "outputs": [],
   "source": [
    "rootw = os.path.join(path, '2')\n",
    "pathn = 'keyDict.pkl'\n",
    "dataFile='content.json'\n",
    "filename='contentList.json'"
   ]
  },
  {
   "cell_type": "code",
   "execution_count": 73,
   "metadata": {
    "collapsed": false
   },
   "outputs": [
    {
     "name": "stdout",
     "output_type": "stream",
     "text": [
      "keyDict 42609 table 1 notFindDoc 0\n"
     ]
    }
   ],
   "source": [
    "keyDict=getKeyDict(rootw,pathn)"
   ]
  },
  {
   "cell_type": "code",
   "execution_count": 79,
   "metadata": {
    "collapsed": false
   },
   "outputs": [],
   "source": [
    "keyDcitReplace0,biaoshiKey0,notExcel0=getKeyDictReplace(datadictFinal,keyDict)"
   ]
  },
  {
   "cell_type": "code",
   "execution_count": 80,
   "metadata": {
    "collapsed": false
   },
   "outputs": [
    {
     "name": "stdout",
     "output_type": "stream",
     "text": [
      "41997 41999 487\n"
     ]
    }
   ],
   "source": [
    "print(len(keyDcitReplace0),len(biaoshiKey0),len(notExcel0))"
   ]
  },
  {
   "cell_type": "code",
   "execution_count": 81,
   "metadata": {
    "collapsed": false
   },
   "outputs": [
    {
     "name": "stdout",
     "output_type": "stream",
     "text": [
      "读取失败的文书 938\n",
      "记录的文书量： 41062\n"
     ]
    }
   ],
   "source": [
    "content=getContent('2',dataFile,filename,biaoshiKey0);"
   ]
  },
  {
   "cell_type": "code",
   "execution_count": 83,
   "metadata": {
    "collapsed": false
   },
   "outputs": [
    {
     "data": {
      "text/plain": [
       "41060"
      ]
     },
     "execution_count": 83,
     "metadata": {},
     "output_type": "execute_result"
    }
   ],
   "source": [
    "len(content)"
   ]
  },
  {
   "cell_type": "code",
   "execution_count": 84,
   "metadata": {
    "collapsed": false
   },
   "outputs": [
    {
     "data": {
      "text/plain": [
       "{'原告': '原告：张永江,男,土家族,1990年12月17日出生, 住重庆市黔江区濯水镇双龙村5组,公民身份号码500239199012175752。委托诉讼代理人：张高易，重庆市渝北区两路法律服务所法律工作者。',\n",
       " '被告': ':重庆千彩万家装饰工程有限公司,住所地重庆市渝北区双龙湖街道兰馨大道18号附10号御城华府22幢2-商场。 统一社会信用代码91500112MA5YTFW34A。法定代表人: 刘冬。',\n",
       " '案由+程序': '原告张永江与被告重庆千彩万家装饰工程有限公司劳动争议一案，本院受理后，依法由审判员徐振中适用简易程序中的小额诉讼程序公开开庭进行了审理，原告委托诉讼代理人张高易到庭参加诉讼，被告经本院合法传唤，无正当理由未到庭参加诉讼，本院依法缺席审理。本案现已审理终结。',\n",
       " '诉讼请求': '原告张永江向本院提出诉讼请求：被告支付原告工资 16 948元。',\n",
       " '事实理由': '经审理查明：在原告举示的《关于千彩万家装饰2018年度工地结款协议书》（签订日期为2019年1月18日）上有以下内容：千彩万家装饰原项目经理钟磊在公司承包的在建工地，公司已按时发放款项给钟磊，由于钟磊未能及时发放给工人，现经公司与工人友好沟通协商。决定此款项由公司从钟磊剩余款项中扣除出来，直接发放给工人。合计欠款金额为16 948元，经双方友好协商，此项欠款商定在2019年1月25号前付8474元，剩余款项8474元定在2019年4月25号前付清。公司盖章处加盖重庆千彩万家装饰工程有限公司公章，工人处有张永江签署名字。',\n",
       " '适用法条': ''}"
      ]
     },
     "execution_count": 84,
     "metadata": {},
     "output_type": "execute_result"
    }
   ],
   "source": [
    "content['(2019)渝0112民初9935号']"
   ]
  },
  {
   "cell_type": "code",
   "execution_count": 85,
   "metadata": {
    "collapsed": false
   },
   "outputs": [],
   "source": [
    "data=combineInfo(content,datadictFinal,'data.pkl')"
   ]
  },
  {
   "cell_type": "code",
   "execution_count": 86,
   "metadata": {
    "collapsed": false
   },
   "outputs": [
    {
     "data": {
      "text/plain": [
       "41060"
      ]
     },
     "execution_count": 86,
     "metadata": {},
     "output_type": "execute_result"
    }
   ],
   "source": [
    "len(data)"
   ]
  },
  {
   "cell_type": "code",
   "execution_count": 87,
   "metadata": {
    "collapsed": false
   },
   "outputs": [
    {
     "data": {
      "text/plain": [
       "{'content': {'原告': '原告：肖瑾，女，1983年1月15日出生，汉族，住重庆市渝北区云竹路6号联发瞰青1期，公民身份号码510202198301157328。',\n",
       "  '被告': '：罗健，男，1981年1月28日出生，汉族，住安徽省宁国市西津办事处大村吴冲下组16号，公民身份号码342524198101282217。',\n",
       "  '案由+程序': '原告肖瑾诉被告罗健抚养费纠纷一案，2019年2月13日由本院立案受理后，依法由审判员任韵霖适用简易程序于2019年3月11日公开开庭进行了审理。原告肖瑾、被告罗健到庭参加了诉讼，本案现已审理终结。',\n",
       "  '诉讼请求': '原告肖瑾向本院提出诉讼请求：请求法院判令1.被告支付婚生女罗钿雅2018.7至2019.2期间的生活费15 500元、医药保险费550元，共计16 050元；2.被告支付违约金2000元。本案诉讼费由被告承担。',\n",
       "  '事实理由': '本院经审理认定如下事实：原告肖瑾与被告罗健原系夫妻关系。二人于2017年2月8日生育女儿罗钿雅。2018年4月26日，肖瑾与罗健在重庆市渝北区民政局协议离婚，并约定罗钿雅由肖瑾抚养，被告罗健每月给付婚生女生活费3000元直至女儿能独立生活为止，另托养费、教育费、医疗费、保险费由被告全部负责（如原告工作后，被告支付罗钿雅每月生活费2000元，女儿产生其他托养费、教育费或医疗费用：被告承担70%，原告承担30%，如需产生上述费用，原告必须提前和被告协商后而定）。若任何一方不按本协议约定期限和足额支付生活费，应按未支付款项30%承担违约金支付给对方，并按未付款项千分之二计日息，按日累计，直到付清为止。生活费、托养费、教育费、医疗费、保险费凭相关票据在十五日内均由被告按照前序条款约定承担，如逾期未支付上述费用，被告将承担违约金30%，并按未付款项千分之二计日息，按日累计，直到付清为止。原告与被告离婚后，罗钿雅跟随原告肖瑾居住生活。原告肖瑾现无工作，处于失业状态。',\n",
       "  '适用法条': '《中华人民共和国婚姻法》第二十一条第一款、第二款、第三十七条，《最高人民法院关于适用<中华人民共和国婚姻法>若干问题的解释（一）》第二十一条和《中华人民共和国民事诉讼法》第六十四条、第一百五十二条之'},\n",
       " 'detail': {'案由': '抚养费纠纷',\n",
       "  '案件得分': 4.0,\n",
       "  '实际时间': 29,\n",
       "  '法官id': 601,\n",
       "  '适用程序': '简易程序（非小额诉讼）'}}"
      ]
     },
     "execution_count": 87,
     "metadata": {},
     "output_type": "execute_result"
    }
   ],
   "source": [
    "data['(2019)渝0112民初4074号']"
   ]
  },
  {
   "cell_type": "code",
   "execution_count": 88,
   "metadata": {
    "collapsed": false
   },
   "outputs": [
    {
     "data": {
      "text/plain": [
       "{'content': {'原告': '原告：张永江,男,土家族,1990年12月17日出生, 住重庆市黔江区濯水镇双龙村5组,公民身份号码500239199012175752。委托诉讼代理人：张高易，重庆市渝北区两路法律服务所法律工作者。',\n",
       "  '被告': ':重庆千彩万家装饰工程有限公司,住所地重庆市渝北区双龙湖街道兰馨大道18号附10号御城华府22幢2-商场。 统一社会信用代码91500112MA5YTFW34A。法定代表人: 刘冬。',\n",
       "  '案由+程序': '原告张永江与被告重庆千彩万家装饰工程有限公司劳动争议一案，本院受理后，依法由审判员徐振中适用简易程序中的小额诉讼程序公开开庭进行了审理，原告委托诉讼代理人张高易到庭参加诉讼，被告经本院合法传唤，无正当理由未到庭参加诉讼，本院依法缺席审理。本案现已审理终结。',\n",
       "  '诉讼请求': '原告张永江向本院提出诉讼请求：被告支付原告工资 16 948元。',\n",
       "  '事实理由': '经审理查明：在原告举示的《关于千彩万家装饰2018年度工地结款协议书》（签订日期为2019年1月18日）上有以下内容：千彩万家装饰原项目经理钟磊在公司承包的在建工地，公司已按时发放款项给钟磊，由于钟磊未能及时发放给工人，现经公司与工人友好沟通协商。决定此款项由公司从钟磊剩余款项中扣除出来，直接发放给工人。合计欠款金额为16 948元，经双方友好协商，此项欠款商定在2019年1月25号前付8474元，剩余款项8474元定在2019年4月25号前付清。公司盖章处加盖重庆千彩万家装饰工程有限公司公章，工人处有张永江签署名字。',\n",
       "  '适用法条': ''},\n",
       " 'detail': {'案由': '劳动争议',\n",
       "  '案件得分': 7.0,\n",
       "  '实际时间': 88,\n",
       "  '法官id': 484,\n",
       "  '适用程序': '简易程序(小额诉讼)'}}"
      ]
     },
     "execution_count": 88,
     "metadata": {},
     "output_type": "execute_result"
    }
   ],
   "source": [
    "data['(2019)渝0112民初9935号']"
   ]
  },
  {
   "cell_type": "code",
   "execution_count": 89,
   "metadata": {
    "collapsed": false
   },
   "outputs": [
    {
     "data": {
      "text/plain": [
       "{'案由': '劳动争议', '案件得分': 7.0, '实际时间': 88, '法官id': 484, '适用程序': '简易程序(小额诉讼)'}"
      ]
     },
     "execution_count": 89,
     "metadata": {},
     "output_type": "execute_result"
    }
   ],
   "source": [
    "datadictFinal['(2019)渝0112民初9935号']"
   ]
  },
  {
   "cell_type": "code",
   "execution_count": 226,
   "metadata": {
    "collapsed": false
   },
   "outputs": [
    {
     "data": {
      "text/plain": [
       "'M1D_7cc626c2-50c2-4921-a27e-ec10428feaa8'"
      ]
     },
     "execution_count": 226,
     "metadata": {},
     "output_type": "execute_result"
    }
   ],
   "source": [
    "keyDcitReplace0['(2019)渝0112民初9935号']"
   ]
  },
  {
   "cell_type": "code",
   "execution_count": 235,
   "metadata": {
    "collapsed": false
   },
   "outputs": [
    {
     "data": {
      "text/plain": [
       "99"
      ]
     },
     "execution_count": 235,
     "metadata": {},
     "output_type": "execute_result"
    }
   ],
   "source": [
    "len(data['(2019)渝0112民初4074号']['content']['适用法条'])"
   ]
  },
  {
   "cell_type": "code",
   "execution_count": 237,
   "metadata": {
    "collapsed": false
   },
   "outputs": [
    {
     "name": "stdout",
     "output_type": "stream",
     "text": [
      "法条识别出的案件数: 4292 法条没有识别出的案件数： 36768\n"
     ]
    }
   ],
   "source": [
    "fatiao=0\n",
    "notFatiao=0\n",
    "for key in data:\n",
    "    if len(data[key]['content']['适用法条'])>0:\n",
    "        fatiao=fatiao+1\n",
    "    else:\n",
    "        notFatiao=notFatiao+1\n",
    "print('法条识别出的案件数:',fatiao,'法条没有识别出的案件数：',notFatiao)"
   ]
  },
  {
   "cell_type": "code",
   "execution_count": 240,
   "metadata": {
    "collapsed": false
   },
   "outputs": [
    {
     "data": {
      "text/plain": [
       "'../rawdata/2'"
      ]
     },
     "execution_count": 240,
     "metadata": {},
     "output_type": "execute_result"
    }
   ],
   "source": [
    "os.path.join(path, '2')"
   ]
  },
  {
   "cell_type": "markdown",
   "metadata": {},
   "source": [
    "## 求某列字符串长度"
   ]
  },
  {
   "cell_type": "code",
   "execution_count": 263,
   "metadata": {
    "collapsed": false
   },
   "outputs": [],
   "source": [
    "test = {'Science':[1,2,3],'Art':[4,5,6]}"
   ]
  },
  {
   "cell_type": "code",
   "execution_count": 264,
   "metadata": {
    "collapsed": false
   },
   "outputs": [],
   "source": [
    "test1=pd.DataFrame(test)"
   ]
  },
  {
   "cell_type": "code",
   "execution_count": 265,
   "metadata": {
    "collapsed": false
   },
   "outputs": [
    {
     "data": {
      "text/html": [
       "<div>\n",
       "<style scoped>\n",
       "    .dataframe tbody tr th:only-of-type {\n",
       "        vertical-align: middle;\n",
       "    }\n",
       "\n",
       "    .dataframe tbody tr th {\n",
       "        vertical-align: top;\n",
       "    }\n",
       "\n",
       "    .dataframe thead th {\n",
       "        text-align: right;\n",
       "    }\n",
       "</style>\n",
       "<table border=\"1\" class=\"dataframe\">\n",
       "  <thead>\n",
       "    <tr style=\"text-align: right;\">\n",
       "      <th></th>\n",
       "      <th>Science</th>\n",
       "      <th>Art</th>\n",
       "    </tr>\n",
       "  </thead>\n",
       "  <tbody>\n",
       "    <tr>\n",
       "      <th>0</th>\n",
       "      <td>1</td>\n",
       "      <td>4</td>\n",
       "    </tr>\n",
       "  </tbody>\n",
       "</table>\n",
       "</div>"
      ],
      "text/plain": [
       "   Science  Art\n",
       "0        1    4"
      ]
     },
     "execution_count": 265,
     "metadata": {},
     "output_type": "execute_result"
    }
   ],
   "source": [
    "test1.head(1)"
   ]
  },
  {
   "cell_type": "code",
   "execution_count": 261,
   "metadata": {
    "collapsed": false
   },
   "outputs": [],
   "source": [
    "lens=test1.Science.str.len()"
   ]
  },
  {
   "cell_type": "code",
   "execution_count": 262,
   "metadata": {
    "collapsed": false
   },
   "outputs": [
    {
     "data": {
      "text/plain": [
       "7.0"
      ]
     },
     "execution_count": 262,
     "metadata": {},
     "output_type": "execute_result"
    }
   ],
   "source": [
    "lens.max()"
   ]
  },
  {
   "cell_type": "code",
   "execution_count": null,
   "metadata": {
    "collapsed": true
   },
   "outputs": [],
   "source": []
  }
 ],
 "metadata": {
  "kernelspec": {
   "display_name": "Python 3",
   "language": "python",
   "name": "python3"
  },
  "language_info": {
   "codemirror_mode": {
    "name": "ipython",
    "version": 3
   },
   "file_extension": ".py",
   "mimetype": "text/x-python",
   "name": "python",
   "nbconvert_exporter": "python",
   "pygments_lexer": "ipython3",
   "version": "3.6.3"
  }
 },
 "nbformat": 4,
 "nbformat_minor": 2
}
