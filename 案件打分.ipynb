{
 "cells": [
  {
   "cell_type": "code",
   "execution_count": 41,
   "metadata": {
    "collapsed": true
   },
   "outputs": [],
   "source": [
    "import pandas as pd\n",
    "import os\n",
    "import pickle\n",
    "from docx import Document\n",
    "import re"
   ]
  },
  {
   "cell_type": "code",
   "execution_count": 2,
   "metadata": {
    "collapsed": true
   },
   "outputs": [],
   "source": [
    "path='../rawdata'"
   ]
  },
  {
   "cell_type": "code",
   "execution_count": 122,
   "metadata": {
    "collapsed": false
   },
   "outputs": [
    {
     "name": "stdout",
     "output_type": "stream",
     "text": [
      "民事案件201811-201910 （渝北、江北）.xlsx\n",
      "2\n",
      "民事案件201801-10（渝北、江北）.xlsx\n",
      "1.py\n",
      "两法院民事案由分值.xlsx\n",
      "两院法官人员信息.xlsx\n",
      ".ipynb_checkpoints\n"
     ]
    }
   ],
   "source": [
    "\n",
    "for key in os.listdir(path):\n",
    "    print(key)"
   ]
  },
  {
   "cell_type": "markdown",
   "metadata": {},
   "source": [
    "## 4,5,6为案由计算"
   ]
  },
  {
   "cell_type": "code",
   "execution_count": 4,
   "metadata": {
    "collapsed": true
   },
   "outputs": [],
   "source": [
    "anyou=pd.read_excel(os.path.join(path,'两法院民事案由分值.xlsx')) \n",
    "anyou0=anyou[anyou['法院']=='重庆市江北区人民法院']\n",
    "anyou1=anyou[anyou['法院']=='重庆市渝北区人民法院']"
   ]
  },
  {
   "cell_type": "code",
   "execution_count": 5,
   "metadata": {
    "collapsed": false
   },
   "outputs": [],
   "source": [
    "def anyou2id(anyou0):\n",
    "    anyoudict0={}\n",
    "    for index, row in anyou0.iterrows():\n",
    "        anyoudict0[row[4]]=row[1]\n",
    "    return anyoudict0"
   ]
  },
  {
   "cell_type": "code",
   "execution_count": 6,
   "metadata": {
    "collapsed": true
   },
   "outputs": [],
   "source": [
    "anyoudict0=anyou2id(anyou0)\n",
    "anyoudict1=anyou2id(anyou1)"
   ]
  },
  {
   "cell_type": "code",
   "execution_count": 7,
   "metadata": {
    "collapsed": false
   },
   "outputs": [
    {
     "data": {
      "text/html": [
       "<div>\n",
       "<style scoped>\n",
       "    .dataframe tbody tr th:only-of-type {\n",
       "        vertical-align: middle;\n",
       "    }\n",
       "\n",
       "    .dataframe tbody tr th {\n",
       "        vertical-align: top;\n",
       "    }\n",
       "\n",
       "    .dataframe thead th {\n",
       "        text-align: right;\n",
       "    }\n",
       "</style>\n",
       "<table border=\"1\" class=\"dataframe\">\n",
       "  <thead>\n",
       "    <tr style=\"text-align: right;\">\n",
       "      <th></th>\n",
       "      <th>法院</th>\n",
       "      <th>分值</th>\n",
       "      <th>案由代码</th>\n",
       "      <th>上级代码</th>\n",
       "      <th>案由名称</th>\n",
       "      <th>案件类型</th>\n",
       "      <th>启用状态</th>\n",
       "    </tr>\n",
       "  </thead>\n",
       "  <tbody>\n",
       "    <tr>\n",
       "      <th>0</th>\n",
       "      <td>重庆市江北区人民法院</td>\n",
       "      <td>6</td>\n",
       "      <td>9000</td>\n",
       "      <td>0</td>\n",
       "      <td>民事案由</td>\n",
       "      <td>民事</td>\n",
       "      <td>正常启用</td>\n",
       "    </tr>\n",
       "  </tbody>\n",
       "</table>\n",
       "</div>"
      ],
      "text/plain": [
       "           法院  分值  案由代码 上级代码  案由名称 案件类型  启用状态\n",
       "0  重庆市江北区人民法院   6  9000    0  民事案由   民事  正常启用"
      ]
     },
     "execution_count": 7,
     "metadata": {},
     "output_type": "execute_result"
    }
   ],
   "source": [
    "anyou.head(1)"
   ]
  },
  {
   "cell_type": "markdown",
   "metadata": {},
   "source": [
    "## 去掉法官重名的情况，将人名与Id一一对应"
   ]
  },
  {
   "cell_type": "code",
   "execution_count": 8,
   "metadata": {
    "collapsed": true
   },
   "outputs": [],
   "source": [
    "judge=pd.read_excel(os.path.join(path,'两院法官人员信息.xlsx')) "
   ]
  },
  {
   "cell_type": "code",
   "execution_count": 9,
   "metadata": {
    "collapsed": false
   },
   "outputs": [
    {
     "data": {
      "text/html": [
       "<div>\n",
       "<style scoped>\n",
       "    .dataframe tbody tr th:only-of-type {\n",
       "        vertical-align: middle;\n",
       "    }\n",
       "\n",
       "    .dataframe tbody tr th {\n",
       "        vertical-align: top;\n",
       "    }\n",
       "\n",
       "    .dataframe thead th {\n",
       "        text-align: right;\n",
       "    }\n",
       "</style>\n",
       "<table border=\"1\" class=\"dataframe\">\n",
       "  <thead>\n",
       "    <tr style=\"text-align: right;\">\n",
       "      <th></th>\n",
       "      <th>id</th>\n",
       "      <th>姓名</th>\n",
       "      <th>法院</th>\n",
       "      <th>部门</th>\n",
       "      <th>入院日期</th>\n",
       "      <th>法律职务</th>\n",
       "      <th>性别</th>\n",
       "      <th>行政职务</th>\n",
       "      <th>出生日期</th>\n",
       "      <th>等级</th>\n",
       "      <th>是否员额法官</th>\n",
       "    </tr>\n",
       "  </thead>\n",
       "  <tbody>\n",
       "    <tr>\n",
       "      <th>0</th>\n",
       "      <td>1</td>\n",
       "      <td>杨青</td>\n",
       "      <td>重庆市江北区人民法院</td>\n",
       "      <td>执行局</td>\n",
       "      <td>NaT</td>\n",
       "      <td>NaN</td>\n",
       "      <td>女</td>\n",
       "      <td>NaN</td>\n",
       "      <td>1996-01-22</td>\n",
       "      <td>NaN</td>\n",
       "      <td>2.0</td>\n",
       "    </tr>\n",
       "    <tr>\n",
       "      <th>1</th>\n",
       "      <td>2</td>\n",
       "      <td>凌文英</td>\n",
       "      <td>重庆市江北区人民法院</td>\n",
       "      <td>民事审判一庭</td>\n",
       "      <td>1985-12-20</td>\n",
       "      <td>审判员</td>\n",
       "      <td>女</td>\n",
       "      <td>NaN</td>\n",
       "      <td>1967-07-04</td>\n",
       "      <td>四级高级法官</td>\n",
       "      <td>1.0</td>\n",
       "    </tr>\n",
       "    <tr>\n",
       "      <th>2</th>\n",
       "      <td>3</td>\n",
       "      <td>张雪琪</td>\n",
       "      <td>重庆市江北区人民法院</td>\n",
       "      <td>执行局</td>\n",
       "      <td>NaT</td>\n",
       "      <td>NaN</td>\n",
       "      <td>女</td>\n",
       "      <td>NaN</td>\n",
       "      <td>1995-03-21</td>\n",
       "      <td>NaN</td>\n",
       "      <td>NaN</td>\n",
       "    </tr>\n",
       "    <tr>\n",
       "      <th>3</th>\n",
       "      <td>4</td>\n",
       "      <td>张敬</td>\n",
       "      <td>重庆市江北区人民法院</td>\n",
       "      <td>民事审判三庭</td>\n",
       "      <td>2001-07-04</td>\n",
       "      <td>审判员</td>\n",
       "      <td>女</td>\n",
       "      <td>副主任科员</td>\n",
       "      <td>1978-12-01</td>\n",
       "      <td>一级法官</td>\n",
       "      <td>1.0</td>\n",
       "    </tr>\n",
       "    <tr>\n",
       "      <th>4</th>\n",
       "      <td>5</td>\n",
       "      <td>汪涓</td>\n",
       "      <td>重庆市江北区人民法院</td>\n",
       "      <td>监察室</td>\n",
       "      <td>1986-07-01</td>\n",
       "      <td>审判员</td>\n",
       "      <td>女</td>\n",
       "      <td>副调研员</td>\n",
       "      <td>1964-03-06</td>\n",
       "      <td>四级高级法官</td>\n",
       "      <td>2.0</td>\n",
       "    </tr>\n",
       "  </tbody>\n",
       "</table>\n",
       "</div>"
      ],
      "text/plain": [
       "   id   姓名          法院      部门       入院日期 法律职务 性别   行政职务       出生日期      等级  \\\n",
       "0   1   杨青  重庆市江北区人民法院     执行局        NaT  NaN  女    NaN 1996-01-22     NaN   \n",
       "1   2  凌文英  重庆市江北区人民法院  民事审判一庭 1985-12-20  审判员  女    NaN 1967-07-04  四级高级法官   \n",
       "2   3  张雪琪  重庆市江北区人民法院     执行局        NaT  NaN  女    NaN 1995-03-21     NaN   \n",
       "3   4   张敬  重庆市江北区人民法院  民事审判三庭 2001-07-04  审判员  女  副主任科员 1978-12-01    一级法官   \n",
       "4   5   汪涓  重庆市江北区人民法院     监察室 1986-07-01  审判员  女   副调研员 1964-03-06  四级高级法官   \n",
       "\n",
       "   是否员额法官  \n",
       "0     2.0  \n",
       "1     1.0  \n",
       "2     NaN  \n",
       "3     1.0  \n",
       "4     2.0  "
      ]
     },
     "execution_count": 9,
     "metadata": {},
     "output_type": "execute_result"
    }
   ],
   "source": [
    "judge.head()"
   ]
  },
  {
   "cell_type": "code",
   "execution_count": 10,
   "metadata": {
    "collapsed": false
   },
   "outputs": [
    {
     "name": "stdout",
     "output_type": "stream",
     "text": [
      "<class 'pandas.core.frame.DataFrame'>\n",
      "RangeIndex: 972 entries, 0 to 971\n",
      "Data columns (total 11 columns):\n",
      "id        972 non-null int64\n",
      "姓名        972 non-null object\n",
      "法院        972 non-null object\n",
      "部门        972 non-null object\n",
      "入院日期      477 non-null datetime64[ns]\n",
      "法律职务      476 non-null object\n",
      "性别        972 non-null object\n",
      "行政职务      315 non-null object\n",
      "出生日期      972 non-null datetime64[ns]\n",
      "等级        210 non-null object\n",
      "是否员额法官    635 non-null float64\n",
      "dtypes: datetime64[ns](2), float64(1), int64(1), object(7)\n",
      "memory usage: 83.6+ KB\n"
     ]
    }
   ],
   "source": [
    "judge.info()"
   ]
  },
  {
   "cell_type": "code",
   "execution_count": 11,
   "metadata": {
    "collapsed": true
   },
   "outputs": [],
   "source": [
    "judge0=judge[judge['法院']=='重庆市江北区人民法院']\n",
    "judge1=judge[judge['法院']=='重庆市渝北区人民法院']"
   ]
  },
  {
   "cell_type": "code",
   "execution_count": 12,
   "metadata": {
    "collapsed": false
   },
   "outputs": [
    {
     "data": {
      "text/html": [
       "<div>\n",
       "<style scoped>\n",
       "    .dataframe tbody tr th:only-of-type {\n",
       "        vertical-align: middle;\n",
       "    }\n",
       "\n",
       "    .dataframe tbody tr th {\n",
       "        vertical-align: top;\n",
       "    }\n",
       "\n",
       "    .dataframe thead th {\n",
       "        text-align: right;\n",
       "    }\n",
       "</style>\n",
       "<table border=\"1\" class=\"dataframe\">\n",
       "  <thead>\n",
       "    <tr style=\"text-align: right;\">\n",
       "      <th></th>\n",
       "      <th>id</th>\n",
       "      <th>姓名</th>\n",
       "      <th>法院</th>\n",
       "      <th>部门</th>\n",
       "      <th>入院日期</th>\n",
       "      <th>法律职务</th>\n",
       "      <th>性别</th>\n",
       "      <th>行政职务</th>\n",
       "      <th>出生日期</th>\n",
       "      <th>等级</th>\n",
       "      <th>是否员额法官</th>\n",
       "    </tr>\n",
       "  </thead>\n",
       "  <tbody>\n",
       "    <tr>\n",
       "      <th>369</th>\n",
       "      <td>370</td>\n",
       "      <td>陈瑶</td>\n",
       "      <td>重庆市江北区人民法院</td>\n",
       "      <td>司法警察大队</td>\n",
       "      <td>NaT</td>\n",
       "      <td>NaN</td>\n",
       "      <td>男</td>\n",
       "      <td>NaN</td>\n",
       "      <td>1995-01-13</td>\n",
       "      <td>NaN</td>\n",
       "      <td>2.0</td>\n",
       "    </tr>\n",
       "    <tr>\n",
       "      <th>384</th>\n",
       "      <td>385</td>\n",
       "      <td>陈瑶</td>\n",
       "      <td>重庆市江北区人民法院</td>\n",
       "      <td>金融审判庭</td>\n",
       "      <td>NaT</td>\n",
       "      <td>NaN</td>\n",
       "      <td>女</td>\n",
       "      <td>NaN</td>\n",
       "      <td>1987-11-16</td>\n",
       "      <td>NaN</td>\n",
       "      <td>NaN</td>\n",
       "    </tr>\n",
       "  </tbody>\n",
       "</table>\n",
       "</div>"
      ],
      "text/plain": [
       "      id  姓名          法院      部门 入院日期 法律职务 性别 行政职务       出生日期   等级  是否员额法官\n",
       "369  370  陈瑶  重庆市江北区人民法院  司法警察大队  NaT  NaN  男  NaN 1995-01-13  NaN     2.0\n",
       "384  385  陈瑶  重庆市江北区人民法院   金融审判庭  NaT  NaN  女  NaN 1987-11-16  NaN     NaN"
      ]
     },
     "execution_count": 12,
     "metadata": {},
     "output_type": "execute_result"
    }
   ],
   "source": [
    "#选出重复的名字：重庆市江北区人民法院：删除id==370\n",
    "#渝北区人民法院：删除id==501,639,648,664,673,737,765,797,836\n",
    "judge0[judge0['姓名'].duplicated(False)]"
   ]
  },
  {
   "cell_type": "code",
   "execution_count": 13,
   "metadata": {
    "collapsed": false
   },
   "outputs": [
    {
     "name": "stderr",
     "output_type": "stream",
     "text": [
      "/home/huipu/.local/lib/python3.6/site-packages/pandas/core/frame.py:3940: SettingWithCopyWarning: \n",
      "A value is trying to be set on a copy of a slice from a DataFrame\n",
      "\n",
      "See the caveats in the documentation: http://pandas.pydata.org/pandas-docs/stable/indexing.html#indexing-view-versus-copy\n",
      "  errors=errors)\n"
     ]
    },
    {
     "data": {
      "text/html": [
       "<div>\n",
       "<style scoped>\n",
       "    .dataframe tbody tr th:only-of-type {\n",
       "        vertical-align: middle;\n",
       "    }\n",
       "\n",
       "    .dataframe tbody tr th {\n",
       "        vertical-align: top;\n",
       "    }\n",
       "\n",
       "    .dataframe thead th {\n",
       "        text-align: right;\n",
       "    }\n",
       "</style>\n",
       "<table border=\"1\" class=\"dataframe\">\n",
       "  <thead>\n",
       "    <tr style=\"text-align: right;\">\n",
       "      <th></th>\n",
       "      <th>id</th>\n",
       "      <th>姓名</th>\n",
       "      <th>法院</th>\n",
       "      <th>部门</th>\n",
       "      <th>入院日期</th>\n",
       "      <th>法律职务</th>\n",
       "      <th>性别</th>\n",
       "      <th>行政职务</th>\n",
       "      <th>出生日期</th>\n",
       "      <th>等级</th>\n",
       "      <th>是否员额法官</th>\n",
       "    </tr>\n",
       "  </thead>\n",
       "  <tbody>\n",
       "  </tbody>\n",
       "</table>\n",
       "</div>"
      ],
      "text/plain": [
       "Empty DataFrame\n",
       "Columns: [id, 姓名, 法院, 部门, 入院日期, 法律职务, 性别, 行政职务, 出生日期, 等级, 是否员额法官]\n",
       "Index: []"
      ]
     },
     "execution_count": 13,
     "metadata": {},
     "output_type": "execute_result"
    }
   ],
   "source": [
    "judge0.drop([369],inplace=True)\n",
    "judge0[judge0['姓名'].duplicated(False)]"
   ]
  },
  {
   "cell_type": "code",
   "execution_count": 14,
   "metadata": {
    "collapsed": false
   },
   "outputs": [
    {
     "data": {
      "text/html": [
       "<div>\n",
       "<style scoped>\n",
       "    .dataframe tbody tr th:only-of-type {\n",
       "        vertical-align: middle;\n",
       "    }\n",
       "\n",
       "    .dataframe tbody tr th {\n",
       "        vertical-align: top;\n",
       "    }\n",
       "\n",
       "    .dataframe thead th {\n",
       "        text-align: right;\n",
       "    }\n",
       "</style>\n",
       "<table border=\"1\" class=\"dataframe\">\n",
       "  <thead>\n",
       "    <tr style=\"text-align: right;\">\n",
       "      <th></th>\n",
       "      <th>id</th>\n",
       "      <th>姓名</th>\n",
       "      <th>法院</th>\n",
       "      <th>部门</th>\n",
       "      <th>入院日期</th>\n",
       "      <th>法律职务</th>\n",
       "      <th>性别</th>\n",
       "      <th>行政职务</th>\n",
       "      <th>出生日期</th>\n",
       "      <th>等级</th>\n",
       "      <th>是否员额法官</th>\n",
       "    </tr>\n",
       "  </thead>\n",
       "  <tbody>\n",
       "    <tr>\n",
       "      <th>468</th>\n",
       "      <td>469</td>\n",
       "      <td>杨琼</td>\n",
       "      <td>重庆市渝北区人民法院</td>\n",
       "      <td>民事审判二庭</td>\n",
       "      <td>1994-04-01</td>\n",
       "      <td>庭长</td>\n",
       "      <td>女</td>\n",
       "      <td>庭长</td>\n",
       "      <td>1970-05-23</td>\n",
       "      <td>四级高级法官</td>\n",
       "      <td>1.0</td>\n",
       "    </tr>\n",
       "    <tr>\n",
       "      <th>500</th>\n",
       "      <td>501</td>\n",
       "      <td>何霜</td>\n",
       "      <td>重庆市渝北区人民法院</td>\n",
       "      <td>民事审判二庭</td>\n",
       "      <td>NaT</td>\n",
       "      <td>NaN</td>\n",
       "      <td>女</td>\n",
       "      <td>NaN</td>\n",
       "      <td>1989-10-18</td>\n",
       "      <td>NaN</td>\n",
       "      <td>NaN</td>\n",
       "    </tr>\n",
       "    <tr>\n",
       "      <th>638</th>\n",
       "      <td>639</td>\n",
       "      <td>陈果</td>\n",
       "      <td>重庆市渝北区人民法院</td>\n",
       "      <td>环境资源审判庭</td>\n",
       "      <td>NaT</td>\n",
       "      <td>NaN</td>\n",
       "      <td>女</td>\n",
       "      <td>NaN</td>\n",
       "      <td>1994-12-19</td>\n",
       "      <td>NaN</td>\n",
       "      <td>NaN</td>\n",
       "    </tr>\n",
       "    <tr>\n",
       "      <th>647</th>\n",
       "      <td>648</td>\n",
       "      <td>王婷婷</td>\n",
       "      <td>重庆市渝北区人民法院</td>\n",
       "      <td>综合办公室</td>\n",
       "      <td>2006-04-26</td>\n",
       "      <td>司法行政人员</td>\n",
       "      <td>女</td>\n",
       "      <td>其他</td>\n",
       "      <td>1983-01-27</td>\n",
       "      <td>NaN</td>\n",
       "      <td>2.0</td>\n",
       "    </tr>\n",
       "    <tr>\n",
       "      <th>659</th>\n",
       "      <td>660</td>\n",
       "      <td>陈果</td>\n",
       "      <td>重庆市渝北区人民法院</td>\n",
       "      <td>环境资源审判庭</td>\n",
       "      <td>2011-08-12</td>\n",
       "      <td>审判员</td>\n",
       "      <td>男</td>\n",
       "      <td>其他</td>\n",
       "      <td>1984-10-10</td>\n",
       "      <td>二级法官</td>\n",
       "      <td>1.0</td>\n",
       "    </tr>\n",
       "    <tr>\n",
       "      <th>663</th>\n",
       "      <td>664</td>\n",
       "      <td>马瑞</td>\n",
       "      <td>重庆市渝北区人民法院</td>\n",
       "      <td>民事审判三庭</td>\n",
       "      <td>2018-11-07</td>\n",
       "      <td>法官助理</td>\n",
       "      <td>女</td>\n",
       "      <td>其他</td>\n",
       "      <td>1993-12-17</td>\n",
       "      <td>NaN</td>\n",
       "      <td>NaN</td>\n",
       "    </tr>\n",
       "    <tr>\n",
       "      <th>672</th>\n",
       "      <td>673</td>\n",
       "      <td>何霜</td>\n",
       "      <td>重庆市渝北区人民法院</td>\n",
       "      <td>民事审判二庭</td>\n",
       "      <td>NaT</td>\n",
       "      <td>NaN</td>\n",
       "      <td>女</td>\n",
       "      <td>NaN</td>\n",
       "      <td>1994-08-18</td>\n",
       "      <td>NaN</td>\n",
       "      <td>2.0</td>\n",
       "    </tr>\n",
       "    <tr>\n",
       "      <th>736</th>\n",
       "      <td>737</td>\n",
       "      <td>郭鹏飞</td>\n",
       "      <td>重庆市渝北区人民法院</td>\n",
       "      <td>民事审判一庭</td>\n",
       "      <td>2018-11-08</td>\n",
       "      <td>法官助理</td>\n",
       "      <td>男</td>\n",
       "      <td>其他</td>\n",
       "      <td>1991-08-19</td>\n",
       "      <td>NaN</td>\n",
       "      <td>NaN</td>\n",
       "    </tr>\n",
       "    <tr>\n",
       "      <th>764</th>\n",
       "      <td>765</td>\n",
       "      <td>杨琼</td>\n",
       "      <td>重庆市渝北区人民法院</td>\n",
       "      <td>民事审判二庭</td>\n",
       "      <td>NaT</td>\n",
       "      <td>NaN</td>\n",
       "      <td>女</td>\n",
       "      <td>NaN</td>\n",
       "      <td>1991-10-07</td>\n",
       "      <td>NaN</td>\n",
       "      <td>NaN</td>\n",
       "    </tr>\n",
       "    <tr>\n",
       "      <th>796</th>\n",
       "      <td>797</td>\n",
       "      <td>马瑞</td>\n",
       "      <td>重庆市渝北区人民法院</td>\n",
       "      <td>民事审判三庭</td>\n",
       "      <td>NaT</td>\n",
       "      <td>NaN</td>\n",
       "      <td>女</td>\n",
       "      <td>NaN</td>\n",
       "      <td>1995-08-31</td>\n",
       "      <td>NaN</td>\n",
       "      <td>NaN</td>\n",
       "    </tr>\n",
       "    <tr>\n",
       "      <th>835</th>\n",
       "      <td>836</td>\n",
       "      <td>郭鹏飞</td>\n",
       "      <td>重庆市渝北区人民法院</td>\n",
       "      <td>民事审判二庭</td>\n",
       "      <td>2017-11-08</td>\n",
       "      <td>法官助理</td>\n",
       "      <td>男</td>\n",
       "      <td>其他</td>\n",
       "      <td>1990-10-12</td>\n",
       "      <td>NaN</td>\n",
       "      <td>2.0</td>\n",
       "    </tr>\n",
       "    <tr>\n",
       "      <th>859</th>\n",
       "      <td>860</td>\n",
       "      <td>王婷婷</td>\n",
       "      <td>重庆市渝北区人民法院</td>\n",
       "      <td>民事审判三庭</td>\n",
       "      <td>2010-08-13</td>\n",
       "      <td>审判员</td>\n",
       "      <td>女</td>\n",
       "      <td>其他</td>\n",
       "      <td>1985-06-11</td>\n",
       "      <td>一级法官</td>\n",
       "      <td>1.0</td>\n",
       "    </tr>\n",
       "  </tbody>\n",
       "</table>\n",
       "</div>"
      ],
      "text/plain": [
       "      id   姓名          法院       部门       入院日期    法律职务 性别 行政职务       出生日期  \\\n",
       "468  469   杨琼  重庆市渝北区人民法院   民事审判二庭 1994-04-01      庭长  女   庭长 1970-05-23   \n",
       "500  501   何霜  重庆市渝北区人民法院   民事审判二庭        NaT     NaN  女  NaN 1989-10-18   \n",
       "638  639   陈果  重庆市渝北区人民法院  环境资源审判庭        NaT     NaN  女  NaN 1994-12-19   \n",
       "647  648  王婷婷  重庆市渝北区人民法院    综合办公室 2006-04-26  司法行政人员  女   其他 1983-01-27   \n",
       "659  660   陈果  重庆市渝北区人民法院  环境资源审判庭 2011-08-12     审判员  男   其他 1984-10-10   \n",
       "663  664   马瑞  重庆市渝北区人民法院   民事审判三庭 2018-11-07    法官助理  女   其他 1993-12-17   \n",
       "672  673   何霜  重庆市渝北区人民法院   民事审判二庭        NaT     NaN  女  NaN 1994-08-18   \n",
       "736  737  郭鹏飞  重庆市渝北区人民法院   民事审判一庭 2018-11-08    法官助理  男   其他 1991-08-19   \n",
       "764  765   杨琼  重庆市渝北区人民法院   民事审判二庭        NaT     NaN  女  NaN 1991-10-07   \n",
       "796  797   马瑞  重庆市渝北区人民法院   民事审判三庭        NaT     NaN  女  NaN 1995-08-31   \n",
       "835  836  郭鹏飞  重庆市渝北区人民法院   民事审判二庭 2017-11-08    法官助理  男   其他 1990-10-12   \n",
       "859  860  王婷婷  重庆市渝北区人民法院   民事审判三庭 2010-08-13     审判员  女   其他 1985-06-11   \n",
       "\n",
       "         等级  是否员额法官  \n",
       "468  四级高级法官     1.0  \n",
       "500     NaN     NaN  \n",
       "638     NaN     NaN  \n",
       "647     NaN     2.0  \n",
       "659    二级法官     1.0  \n",
       "663     NaN     NaN  \n",
       "672     NaN     2.0  \n",
       "736     NaN     NaN  \n",
       "764     NaN     NaN  \n",
       "796     NaN     NaN  \n",
       "835     NaN     2.0  \n",
       "859    一级法官     1.0  "
      ]
     },
     "execution_count": 14,
     "metadata": {},
     "output_type": "execute_result"
    }
   ],
   "source": [
    "judge1[judge1['姓名'].duplicated(False)]"
   ]
  },
  {
   "cell_type": "code",
   "execution_count": 15,
   "metadata": {
    "collapsed": false
   },
   "outputs": [
    {
     "data": {
      "text/html": [
       "<div>\n",
       "<style scoped>\n",
       "    .dataframe tbody tr th:only-of-type {\n",
       "        vertical-align: middle;\n",
       "    }\n",
       "\n",
       "    .dataframe tbody tr th {\n",
       "        vertical-align: top;\n",
       "    }\n",
       "\n",
       "    .dataframe thead th {\n",
       "        text-align: right;\n",
       "    }\n",
       "</style>\n",
       "<table border=\"1\" class=\"dataframe\">\n",
       "  <thead>\n",
       "    <tr style=\"text-align: right;\">\n",
       "      <th></th>\n",
       "      <th>id</th>\n",
       "      <th>姓名</th>\n",
       "      <th>法院</th>\n",
       "      <th>部门</th>\n",
       "      <th>入院日期</th>\n",
       "      <th>法律职务</th>\n",
       "      <th>性别</th>\n",
       "      <th>行政职务</th>\n",
       "      <th>出生日期</th>\n",
       "      <th>等级</th>\n",
       "      <th>是否员额法官</th>\n",
       "    </tr>\n",
       "  </thead>\n",
       "  <tbody>\n",
       "  </tbody>\n",
       "</table>\n",
       "</div>"
      ],
      "text/plain": [
       "Empty DataFrame\n",
       "Columns: [id, 姓名, 法院, 部门, 入院日期, 法律职务, 性别, 行政职务, 出生日期, 等级, 是否员额法官]\n",
       "Index: []"
      ]
     },
     "execution_count": 15,
     "metadata": {},
     "output_type": "execute_result"
    }
   ],
   "source": [
    "judge1.drop([500,638,647,663,672,736,764,796,835],inplace=True)\n",
    "judge1[judge1['姓名'].duplicated(False)]"
   ]
  },
  {
   "cell_type": "code",
   "execution_count": 16,
   "metadata": {
    "collapsed": true
   },
   "outputs": [],
   "source": [
    "def judgeToId(judge1):\n",
    "    judge2id={}\n",
    "    # id2judge={}\n",
    "    for index, row in judge1.iterrows():\n",
    "        judge2id[row[1]]=row[0]\n",
    "    #     id2judge[row[0]]=row[1]\n",
    "    return judge2id"
   ]
  },
  {
   "cell_type": "code",
   "execution_count": 17,
   "metadata": {
    "collapsed": true
   },
   "outputs": [],
   "source": [
    "judge2id0=judgeToId(judge0)\n",
    "judge2id1=judgeToId(judge1)"
   ]
  },
  {
   "cell_type": "markdown",
   "metadata": {},
   "source": [
    "## 原被告数与主体类别"
   ]
  },
  {
   "cell_type": "code",
   "execution_count": 18,
   "metadata": {
    "collapsed": false
   },
   "outputs": [
    {
     "data": {
      "text/plain": [
       "(1, 0)"
      ]
     },
     "execution_count": 18,
     "metadata": {},
     "output_type": "execute_result"
    }
   ],
   "source": [
    "#原被告数与主体类别\n",
    "#0表示自然人，1表示公司\n",
    "#返回（自然人/公司，数量得分）\n",
    "def plaintNum(s):\n",
    "    numS=s.split(',')\n",
    "    num=len(numS)\n",
    "    flag=0#0表示自然人，1表示公司\n",
    "    for key in numS:\n",
    "        if len(key)>4:\n",
    "            flag=1\n",
    "    if num==1:\n",
    "        return flag, 0\n",
    "    elif num==2:\n",
    "        return flag, 0.2\n",
    "    else:\n",
    "        return flag,0.5\n",
    "plaintNum('兴业银行股份有限公司信用卡中心')"
   ]
  },
  {
   "cell_type": "markdown",
   "metadata": {},
   "source": [
    "## 适用程序"
   ]
  },
  {
   "cell_type": "code",
   "execution_count": 19,
   "metadata": {
    "collapsed": true
   },
   "outputs": [],
   "source": [
    "def proce(s):\n",
    "    if s=='简易程序（小额诉讼）'or s=='简易程序(小额诉讼)':\n",
    "        return 0\n",
    "    if s=='简易程序(非小额诉讼)'or s=='简易程序（非小额诉讼）' or s=='简易':\n",
    "        return 0.5\n",
    "    if s=='普通程序'or s=='普通':\n",
    "        return 1"
   ]
  },
  {
   "cell_type": "markdown",
   "metadata": {},
   "source": [
    "## 标的金额"
   ]
  },
  {
   "cell_type": "code",
   "execution_count": 20,
   "metadata": {
    "collapsed": true
   },
   "outputs": [],
   "source": [
    "def money(m):\n",
    "    if m=='\\\\N':\n",
    "        m=0\n",
    "    m=int(m)\n",
    "    if m<=5000:\n",
    "        return 0\n",
    "    elif m<=30000:\n",
    "        return 0.5\n",
    "    else:\n",
    "        return 1"
   ]
  },
  {
   "cell_type": "markdown",
   "metadata": {},
   "source": [
    "## 案件打分，匹配法官（未在名单内的法官id为0）"
   ]
  },
  {
   "cell_type": "markdown",
   "metadata": {},
   "source": [
    "201811-201910\n",
    "江北区，共33221 条数据（包括判决和其他）,其中有5987条数据>=6\n",
    "渝北区，共31389 条数据（包括判决和其他）,其中有10636条数据>=6\n",
    "201801-201810   \n",
    "江北区，共23209 条数据（包括判决和其他）,其中有3709条数据>=6\n",
    "渝北区，共24117 条数据（包括判决和其他）,其中有8646条数据>=6"
   ]
  },
  {
   "cell_type": "code",
   "execution_count": 21,
   "metadata": {
    "collapsed": false
   },
   "outputs": [],
   "source": [
    "root='民事案件201811-201910 （渝北、江北）.xlsx'\n",
    "data=pd.read_excel(os.path.join(path,root))   "
   ]
  },
  {
   "cell_type": "code",
   "execution_count": 22,
   "metadata": {
    "collapsed": true
   },
   "outputs": [],
   "source": [
    "data0=data[data['法院']=='重庆市江北区人民法院']\n",
    "data1=data[data['法院']=='重庆市渝北区人民法院']"
   ]
  },
  {
   "cell_type": "code",
   "execution_count": 23,
   "metadata": {
    "collapsed": true
   },
   "outputs": [],
   "source": [
    "root_pre='民事案件201801-10（渝北、江北）.xlsx'\n",
    "data_pre=pd.read_excel(os.path.join(path,root_pre))   "
   ]
  },
  {
   "cell_type": "code",
   "execution_count": 24,
   "metadata": {
    "collapsed": true
   },
   "outputs": [],
   "source": [
    "data_pre0=data_pre[data_pre['法院']=='重庆市江北区人民法院']\n",
    "data_pre1=data_pre[data_pre['法院']=='重庆市渝北区人民法院']"
   ]
  },
  {
   "cell_type": "code",
   "execution_count": 42,
   "metadata": {
    "collapsed": false
   },
   "outputs": [
    {
     "name": "stdout",
     "output_type": "stream",
     "text": [
      "<class 'pandas.core.frame.DataFrame'>\n",
      "RangeIndex: 64611 entries, 0 to 64610\n",
      "Data columns (total 21 columns):\n",
      "案件标识      64611 non-null object\n",
      "法院        64611 non-null object\n",
      "案号        64611 non-null object\n",
      "立案案由      64610 non-null object\n",
      "原告        64611 non-null object\n",
      "被告        64611 non-null object\n",
      "承办部门      64611 non-null object\n",
      "承办人       64611 non-null object\n",
      "申请标的      64611 non-null object\n",
      "适用程序      64611 non-null object\n",
      "收案日期      64611 non-null datetime64[ns]\n",
      "立案日期      64611 non-null datetime64[ns]\n",
      "移送日期      64611 non-null object\n",
      "签收日期      64611 non-null object\n",
      "分案日期      64611 non-null object\n",
      "报结日期      64611 non-null object\n",
      "结案日期      64611 non-null datetime64[ns]\n",
      "结案方式      64611 non-null object\n",
      "裁判文书      64611 non-null object\n",
      "法定审理天数    64611 non-null int64\n",
      "实际审理天数    64611 non-null int64\n",
      "dtypes: datetime64[ns](3), int64(2), object(16)\n",
      "memory usage: 10.4+ MB\n"
     ]
    }
   ],
   "source": [
    "data.info()"
   ]
  },
  {
   "cell_type": "markdown",
   "metadata": {},
   "source": [
    "### 案件打分，输出格式：{'案号'：{'案由','案件得分','实际时间','法官id'}}"
   ]
  },
  {
   "cell_type": "code",
   "execution_count": 26,
   "metadata": {
    "collapsed": false
   },
   "outputs": [],
   "source": [
    "def score(data0,anyoudict0,judge2id0):\n",
    "    datadict={}\n",
    "    number=0\n",
    "    for index, row in data0.iterrows():\n",
    "        try:\n",
    "            content={}\n",
    "            content['案由']=row[3]\n",
    "            a,b=plaintNum(row[4])\n",
    "            c,d=plaintNum(row[5])\n",
    "            num=anyoudict0[row[3]]\n",
    "            num=num+b+d+(a+c)/2\n",
    "            num=num+money(row[8])\n",
    "            num=num+proce(row[9])\n",
    "            content['案件得分']=num\n",
    "            content['实际时间']=int(row[20])\n",
    "            if num>=6:\n",
    "                number=number+1\n",
    "            if row[7] in judge2id0:\n",
    "                content['法官id']=judge2id0[row[7]]\n",
    "            else:\n",
    "                content['法官id']=0\n",
    "    #         content['案由得分']=anyoudict0(row[3])\n",
    "    #         content['原告得分']=b\n",
    "    #         content['被告得分']=d\n",
    "    #         content['标的金额']=money(row[8])\n",
    "    #         content['适用程序']=proce(row[9])\n",
    "    #         content['主体类别']=(a+c)/2\n",
    "            datadict[row[2]]=content\n",
    "        except:\n",
    "            continue\n",
    "    print(number)\n",
    "    return datadict"
   ]
  },
  {
   "cell_type": "code",
   "execution_count": 27,
   "metadata": {
    "collapsed": false
   },
   "outputs": [
    {
     "name": "stdout",
     "output_type": "stream",
     "text": [
      "10636\n"
     ]
    }
   ],
   "source": [
    "datadict1=score(data1,anyoudict1,judge2id1)"
   ]
  },
  {
   "cell_type": "code",
   "execution_count": 28,
   "metadata": {
    "collapsed": false
   },
   "outputs": [
    {
     "name": "stdout",
     "output_type": "stream",
     "text": [
      "5987\n"
     ]
    }
   ],
   "source": [
    "datadict0=score(data0,anyoudict0,judge2id0)"
   ]
  },
  {
   "cell_type": "code",
   "execution_count": 29,
   "metadata": {
    "collapsed": false
   },
   "outputs": [
    {
     "name": "stdout",
     "output_type": "stream",
     "text": [
      "3709\n"
     ]
    }
   ],
   "source": [
    "predict0=score(data_pre0,anyoudict0,judge2id0)"
   ]
  },
  {
   "cell_type": "code",
   "execution_count": 30,
   "metadata": {
    "collapsed": false
   },
   "outputs": [
    {
     "name": "stdout",
     "output_type": "stream",
     "text": [
      "8646\n"
     ]
    }
   ],
   "source": [
    "predict1=score(data_pre1,anyoudict1,judge2id1)"
   ]
  },
  {
   "cell_type": "code",
   "execution_count": 31,
   "metadata": {
    "collapsed": false
   },
   "outputs": [
    {
     "data": {
      "text/plain": [
       "31389"
      ]
     },
     "execution_count": 31,
     "metadata": {},
     "output_type": "execute_result"
    }
   ],
   "source": [
    "len(datadict1)"
   ]
  },
  {
   "cell_type": "code",
   "execution_count": 32,
   "metadata": {
    "collapsed": false
   },
   "outputs": [
    {
     "data": {
      "text/plain": [
       "33221"
      ]
     },
     "execution_count": 32,
     "metadata": {},
     "output_type": "execute_result"
    }
   ],
   "source": [
    "len(datadict0)"
   ]
  },
  {
   "cell_type": "code",
   "execution_count": 33,
   "metadata": {
    "collapsed": false
   },
   "outputs": [
    {
     "name": "stdout",
     "output_type": "stream",
     "text": [
      "23209 24117\n"
     ]
    }
   ],
   "source": [
    "print(len(predict0),len(predict1))"
   ]
  },
  {
   "cell_type": "markdown",
   "metadata": {},
   "source": [
    "合并2018-2019年的案件,datadict0:2018.11-2019.10;predict0:2018.01-2018.10"
   ]
  },
  {
   "cell_type": "code",
   "execution_count": 34,
   "metadata": {
    "collapsed": true
   },
   "outputs": [],
   "source": [
    "datadict0.update(datadict1)\n",
    "predict0.update(predict1)"
   ]
  },
  {
   "cell_type": "code",
   "execution_count": 35,
   "metadata": {
    "collapsed": false
   },
   "outputs": [
    {
     "data": {
      "text/plain": [
       "47326"
      ]
     },
     "execution_count": 35,
     "metadata": {},
     "output_type": "execute_result"
    }
   ],
   "source": [
    "len(predict0)"
   ]
  },
  {
   "cell_type": "markdown",
   "metadata": {},
   "source": [
    "## 读取18-19年以判决结案的案号与文书内容（有判决书的案件,共48441条）"
   ]
  },
  {
   "cell_type": "markdown",
   "metadata": {},
   "source": [
    "### 1,将案件标识与案号关联:keyDict"
   ]
  },
  {
   "cell_type": "code",
   "execution_count": 123,
   "metadata": {
    "collapsed": true
   },
   "outputs": [],
   "source": [
    "#将案件标识与案号关联:keyDict\n",
    "#root为文书存放目录名，path为保存keyDict的文件名\n",
    "def signDict(rootw,pathn):\n",
    "    keyDict={}#将案件标识与案号关联\n",
    "    table=[]#以表格形式存在的文书\n",
    "    notFindDoc = []#不是以docx结尾的文书（格式转换未成功的文书）\n",
    "    if os.path.exists(os.path.join('../rawdata',pathn)):\n",
    "        read_file = open(os.path.join('../rawdata',pathn), 'rb')\n",
    "        keyDict = pickle.load(read_file)\n",
    "        read_file.close()\n",
    "        read_file = open(os.path.join('../rawdata','table.pkl'), 'rb')\n",
    "        table = pickle.load(read_file)\n",
    "        read_file.close()\n",
    "        read_file = open(os.path.join('../rawdata','notFindDoc.pkl'), 'rb')\n",
    "        notFindDoc = pickle.load(read_file)\n",
    "        read_file.close()\n",
    "    else:\n",
    "        for f in os.listdir(rootw):\n",
    "            root2=os.path.join(rootw, f)\n",
    "            for key_ in os.listdir(root2) :\n",
    "                key = os.path.join(root2,key_)\n",
    "                try:\n",
    "                    if key.endswith(\".docx\"):\n",
    "                        document = Document(key)\n",
    "                        paras = list()\n",
    "                        for p in document.paragraphs:\n",
    "                            if p.text.strip() != \"\":\n",
    "                                paras.append(p.text.strip())\n",
    "                        # if(len(paras)==0):\n",
    "                        #     tables = document.tables\n",
    "                        #     for t in tables:\n",
    "                        #         for r in t.rows:\n",
    "                        #             for c in r.cells:\n",
    "                        #                 for p in c.paragraphs:\n",
    "                        #                     if p.text.strip() != \"\":\n",
    "                        #                         paras.append(p.text.strip())\n",
    "                        keyDict[key_.split('.')[0]]=paras[2]\n",
    "                    else:\n",
    "                        notFindDoc.append(key)\n",
    "                except:\n",
    "                    table.append(key)\n",
    "        output = open(os.path.join('../rawdata',pathn), 'wb')\n",
    "        pickle.dump(keyDict, output,True)\n",
    "        output.close()\n",
    "        output = open(os.path.join('../rawdata','table.pkl'), 'wb')\n",
    "        pickle.dump(table, output,True)\n",
    "        output.close()\n",
    "        output = open(os.path.join('../rawdata','notFindDoc.pkl'), 'wb')\n",
    "        pickle.dump(notFindDoc, output,True)\n",
    "        output.close()\n",
    "    print('keyDict',len(keyDict),'table',len(table),'notFindDoc',len(notFindDoc))\n",
    "    return keyDict,table,notFindDoc"
   ]
  },
  {
   "cell_type": "code",
   "execution_count": 39,
   "metadata": {
    "collapsed": false
   },
   "outputs": [],
   "source": [
    "# path='../rawdata'\n",
    "# rootw=os.path.join(path,'1')\n",
    "# pathn='keyDict.pkl'"
   ]
  },
  {
   "cell_type": "code",
   "execution_count": 61,
   "metadata": {
    "collapsed": false
   },
   "outputs": [
    {
     "name": "stdout",
     "output_type": "stream",
     "text": [
      "keyDict 12 table 4 notFindDoc 0\n"
     ]
    }
   ],
   "source": [
    "keyDict,table,notFindDoc=signDict(rootw,pathn)"
   ]
  },
  {
   "cell_type": "markdown",
   "metadata": {},
   "source": [
    "### 2,提取文书内容"
   ]
  },
  {
   "cell_type": "code",
   "execution_count": 214,
   "metadata": {
    "collapsed": true
   },
   "outputs": [],
   "source": [
    "import json\n",
    "import os\n",
    "from docx import Document\n",
    "import re\n",
    "import pickle\n",
    "#将案件标识与案号关联:keyDict\n",
    "#root为文书存放目录名，path为保存keyDict的文件名\n",
    "def signDict(rootw,pathn):\n",
    "    #保存三个文件：keyDict,table,notFindDoc\n",
    "    keyDict={}#将案件标识与案号关联\n",
    "    table=[]#以表格形式存在的文书\n",
    "    notFindDoc = []#不是以docx结尾的文书（格式转换未成功的文书）\n",
    "    if os.path.exists(os.path.join('../rawdata',pathn)):\n",
    "        read_file = open(os.path.join('../rawdata',pathn), 'rb')\n",
    "        keyDict = pickle.load(read_file)\n",
    "        read_file.close()\n",
    "        read_file = open(os.path.join('../rawdata','table.pkl'), 'rb')\n",
    "        table = pickle.load(read_file)\n",
    "        read_file.close()\n",
    "        read_file = open(os.path.join('../rawdata','notFindDoc.pkl'), 'rb')\n",
    "        notFindDoc = pickle.load(read_file)\n",
    "        read_file.close()\n",
    "    else:\n",
    "        for f in os.listdir(rootw):\n",
    "            root2=os.path.join(rootw, f)\n",
    "            for key_ in os.listdir(root2) :\n",
    "                key = os.path.join(root2,key_)\n",
    "                try:\n",
    "                    if key.endswith(\".docx\"):\n",
    "                        document = Document(key)\n",
    "                        paras = list()\n",
    "                        for p in document.paragraphs:\n",
    "                            if p.text.strip() != \"\":\n",
    "                                paras.append(p.text.strip())\n",
    "                        # if(len(paras)==0):\n",
    "                        #     tables = document.tables\n",
    "                        #     for t in tables:\n",
    "                        #         for r in t.rows:\n",
    "                        #             for c in r.cells:\n",
    "                        #                 for p in c.paragraphs:\n",
    "                        #                     if p.text.strip() != \"\":\n",
    "                        #                         paras.append(p.text.strip())\n",
    "                        keyDict[key_.split('.')[0]]=paras[2]\n",
    "                    else:\n",
    "                        notFindDoc.append(key)\n",
    "                except:\n",
    "                    table.append(key)\n",
    "        output = open(os.path.join('../rawdata',pathn), 'wb')\n",
    "        pickle.dump(keyDict, output,True)\n",
    "        output.close()\n",
    "        output = open(os.path.join('../rawdata','table.pkl'), 'wb')\n",
    "        pickle.dump(table, output,True)\n",
    "        output.close()\n",
    "        output = open(os.path.join('../rawdata','notFindDoc.pkl'), 'wb')\n",
    "        pickle.dump(notFindDoc, output,True)\n",
    "        output.close()\n",
    "    print('keyDict',len(keyDict),'table',len(table),'notFindDoc',len(notFindDoc))\n",
    "    return keyDict,table,notFindDoc\n",
    "\n",
    "\n",
    "# 读取段落文字\n",
    "def readPara(doc):  # doc为待读取的文书路径\n",
    "    document = Document(doc)\n",
    "    paras=list()\n",
    "    data=list()\n",
    "    dang=\"\"\n",
    "    for p in document.paragraphs:\n",
    "        if p.text.strip() !=\"\" :\n",
    "            paras.append(p.text.strip())\n",
    "            # paras.insert(0,zhuti)\n",
    "    for i in range(len(paras)):\n",
    "        if '原告'not in paras[i] and '被告' not in paras[i]:\n",
    "            data.append(paras[i])\n",
    "        else:\n",
    "            paras=paras[i:len(paras)]\n",
    "            break\n",
    "    p1 = re.compile('原告.*案')\n",
    "    # p2=re.compile('被告.*：')\n",
    "    for i in range(len(paras)):\n",
    "        if len(p1.findall(paras[i]))==0:\n",
    "            paras[i]=paras[i].replace(\"\\n\", \"\")\n",
    "            dang=dang+paras[i].strip()\n",
    "        else:\n",
    "            paras=paras[i:len(paras)]\n",
    "            break\n",
    "    dang2 = re.split('被告', dang[10:], 1)\n",
    "    dang2[0] = dang[0:10] + dang2[0]\n",
    "    data.extend(dang2)\n",
    "    data.extend(paras)\n",
    "    return data\n",
    "\n",
    "\n",
    "#  step 1 将doc处理成字典格式--记录读取的内容到filename\n",
    "def filter0(root,filename,keyDict):\n",
    "    #共保存两个文件：filename,'notread.txt'\n",
    "    notread=[]\n",
    "    data=[]#目的是为了直观\n",
    "    if os.path.exists(os.path.join('../rawdata',filename)):\n",
    "        with open(os.path.join('../rawdata',filename),'r',encoding='utf-8')as f:\n",
    "            for line in f:\n",
    "                d=json.loads(line)#转成字典格式\n",
    "                data.append(d)\n",
    "    else:\n",
    "        p1 = re.compile('(.*)事实.*?理由(.*)')\n",
    "        p2=re.compile('依照(.*)规定')\n",
    "        for f in os.listdir(root):\n",
    "            root2=os.path.join(root, f)\n",
    "            for key in os.listdir(root2) :\n",
    "                key2 = os.path.join(root2,key)\n",
    "                datatemp = dict()\n",
    "#                 temp = key.split('.')[0]\n",
    "                if key.split('.')[0] in keyDict:\n",
    "                    try:\n",
    "                        paras = readPara(key2)\n",
    "                        if len(paras) == 0:\n",
    "                            notread.append(key)\n",
    "                        if len(paras) > 0:\n",
    "                            datatemp['key']=keyDict[key.split('.')[0]]\n",
    "                            datatemp['原告'] = paras[3]\n",
    "                            datatemp['被告'] = paras[4]\n",
    "                            datatemp['案由+程序'] = paras[5]\n",
    "\n",
    "                            if '请求' in paras[6]:\n",
    "                                temp = p1.findall(paras[6])\n",
    "                                if len(temp) > 0:\n",
    "                                    temp = temp[0]\n",
    "                                    if len(temp[1]) > 5:\n",
    "                                        datatemp['诉讼请求'] = temp[0]\n",
    "                                        datatemp['事实理由'] = temp[1]\n",
    "                                    else:\n",
    "                                        datatemp['诉讼请求'] = paras[6]\n",
    "                                        datatemp['事实理由'] = paras[7]\n",
    "                                else:\n",
    "                                    datatemp['诉讼请求'] = paras[6]\n",
    "                                    datatemp['事实理由'] = paras[7]\n",
    "                                if('经审理' in paras[9]):\n",
    "                                    datatemp['事实理由'] = paras[9]\n",
    "                                elif('经审理' in paras[8]):\n",
    "                                    datatemp['事实理由'] = paras[8]\n",
    "                                temp=p2.findall(paras[12])\n",
    "                                if(len(temp)>0):\n",
    "                                    datatemp['适用法条'] = temp[0]\n",
    "                                else:\n",
    "                                    datatemp['适用法条'] = ''\n",
    "                                data.append(datatemp)\n",
    "\n",
    "                            else:\n",
    "                                notread.append(key)\n",
    "                    except:\n",
    "                        notread.append(key)\n",
    "#                 else:\n",
    "#                     print(key.split('.')[0])\n",
    "                    # error.append(key)\n",
    "#                 break\n",
    "#             break\n",
    "        print('读取失败的文书',len(notread))\n",
    "        #记录读取的内容\n",
    "        with open(os.path.join('../rawdata',filename), 'w', encoding='utf-8')as f2:\n",
    "            f2.truncate()  # 清空文件内容\n",
    "            for key in data:\n",
    "                json.dump(key, f2, ensure_ascii=False)\n",
    "                f2.write('\\n')\n",
    "\n",
    "        #记录未读的路径\n",
    "        with open(os.path.join('../rawdata','notread.txt'), \"w\") as fw:\n",
    "            fw.truncate()\n",
    "            for i in range(len(notread)):\n",
    "                print(str(notread[i]) , file=fw)\n",
    "    print('记录的文书量：',len(data))\n",
    "    return data\n",
    "\n",
    "# step 2 将以列表形式存在的json变为一个json存储-->保存在fileE中\n",
    "def jsonOne(fileB,fileE):\n",
    "    if os.path.exists(os.path.join('../rawdata',fileE)):\n",
    "        read_file = open(os.path.join('../rawdata',fileE), 'rb')\n",
    "        data = pickle.load(read_file)\n",
    "        read_file.close()\n",
    "    else:\n",
    "        with open(os.path.join('../rawdata',fileB), 'r', encoding='utf-8')as f:\n",
    "            data = dict()\n",
    "            for line in f:\n",
    "                d = json.loads(line)  # 转成字典格式\n",
    "                k=d['key']\n",
    "                data[k]= -1\n",
    "                del d[\"key\"]\n",
    "                data[k]=d\n",
    "        output = open(os.path.join('../rawdata',fileE), 'wb')\n",
    "        pickle.dump(data, output,True)\n",
    "        output.close()\n",
    "    return data\n",
    "\n",
    "# if __name__ == '__main__':\n",
    "#     path = '../rawdata'\n",
    "#     rootw = os.path.join(path, '1')\n",
    "#     pathn = 'keyDict.pkl'\n",
    "#     keyDict,table,notFindDoc=signDict(rootw,pathn)\n",
    "#     data0=filter(rootw, 'dataRead.json', keyDcitReplace)\n",
    "#     data=jsonOne('dataRead.json', 'data.json')"
   ]
  },
  {
   "cell_type": "markdown",
   "metadata": {},
   "source": [
    "### 3,keyDict key与value置换（keyDcitRe），选出在excel和文书都存在的案件==>keyDcitReplace"
   ]
  },
  {
   "cell_type": "code",
   "execution_count": 87,
   "metadata": {
    "collapsed": false
   },
   "outputs": [
    {
     "data": {
      "text/plain": [
       "{'M13_ee7c8e80-30ed-49f7-a4de-07ca75d771a3': '(2018)渝0105民初31174号',\n",
       " 'M13_e8847080-a73d-4998-8a9c-705fe79473a6': '(2018)渝0105民初29343号',\n",
       " 'M13_b3e75c98-62bc-498e-94a8-4974d0c6ce49': '(2018)渝0105民初31161号',\n",
       " 'M13_24feed39-0aeb-42cb-806e-b3ec6221366f': '(2018)渝0105民初29327号',\n",
       " 'M13_e234626b-ccd2-48e2-99ef-f91daa118b65': '(2018)渝0105民初31159号',\n",
       " 'M13_5d6a9b05-0fa4-44d3-8369-cf7f2f5490a2': '(2018)渝0105民初31164号',\n",
       " 'M1D_1be8373b-ecba-4165-8302-cc9f1f1a8385': '（2019）渝0112民初19141号',\n",
       " 'M13_60c3b5fa-68b8-4994-80ca-b2d73dbd1dd5': '(2018)渝0105民初29301号',\n",
       " 'M13_40a73403-921c-4ada-a4be-208e504cbe3c': '(2018)渝0105民初31145号',\n",
       " 'M13_b3c36211-b9f6-4005-b0e3-925373973a41': '(2018)渝0105民初31160号',\n",
       " 'M13_3876aa4b-9065-402f-a8f7-d7135f41c33d': '(2018)渝0105民初31173号',\n",
       " 'M13_e2d2472e-265e-4f88-8441-13b658ec046f': '(2018)渝0105民初29344号'}"
      ]
     },
     "execution_count": 87,
     "metadata": {},
     "output_type": "execute_result"
    }
   ],
   "source": [
    "keyDict"
   ]
  },
  {
   "cell_type": "code",
   "execution_count": 88,
   "metadata": {
    "collapsed": false
   },
   "outputs": [],
   "source": [
    "#datadictFinal为excel2018-2019内的案号与案件标识\n",
    "datadictFinal={}\n",
    "datadictFinal.update(datadict0)\n",
    "datadictFinal.update(predict0)"
   ]
  },
  {
   "cell_type": "code",
   "execution_count": 95,
   "metadata": {
    "collapsed": false
   },
   "outputs": [
    {
     "data": {
      "text/plain": [
       "{'案由': '信用卡纠纷', '案件得分': 5.0, '实际时间': 57, '法官id': 51}"
      ]
     },
     "execution_count": 95,
     "metadata": {},
     "output_type": "execute_result"
    }
   ],
   "source": [
    "datadictFinal['(2018)渝0105民初34609号']"
   ]
  },
  {
   "cell_type": "code",
   "execution_count": 198,
   "metadata": {
    "collapsed": false
   },
   "outputs": [],
   "source": [
    "def keyReplace0(keyDict):\n",
    "    keyDcitRe={}\n",
    "    for key in keyDict:\n",
    "        keyDcitRe[keyDict[key]]=key\n",
    "    return keyDcitRe\n",
    "def keyReplace(exceldata,keyDict):\n",
    "    keyDcitRe=keyReplace0(keyDict)\n",
    "    keyDcitReplace={}\n",
    "    biaoshiKey={}\n",
    "    notExcel={}\n",
    "    for key in keyDcitRe:\n",
    "        temp = keyDcitRe[key]\n",
    "        key=key.replace('（','(')\n",
    "        key=key.replace('）',')')\n",
    "        if key in datadictFinal:\n",
    "            keyDcitReplace[key] = temp\n",
    "            biaoshiKey[temp]=key\n",
    "        else:\n",
    "            notExcel[key]=temp\n",
    "    return keyDcitReplace,biaoshiKey,notExcel"
   ]
  },
  {
   "cell_type": "markdown",
   "metadata": {},
   "source": [
    "### 4, 将同在文书集与excel表中的案件进行提取，输出格式：{案号：{原告，被告，案由+程序,诉讼请求，事实理由，适用法条}，}"
   ]
  },
  {
   "cell_type": "code",
   "execution_count": 204,
   "metadata": {
    "collapsed": true
   },
   "outputs": [],
   "source": [
    "#将同在文书集与excel表中的案件进行提取，输出格式：{案号：{原告，被告，案由+程序,诉讼请求，事实理由，适用法条}，}\n",
    "def getContent(root,dataFile,filename,biaoshiKey):#dataFile='content.json',filename='contentList.json'\n",
    "    if os.path.exists(os.path.join('../rawdata',dataFile)):\n",
    "        content=jsonOne(filename, dataFile)\n",
    "    else:\n",
    "        path = '../rawdata'\n",
    "        rootw = os.path.join(path, root)\n",
    "        data0=filter0(rootw, filename, biaoshiKey)\n",
    "        content=jsonOne(filename, dataFile)\n",
    "        return content"
   ]
  },
  {
   "cell_type": "code",
   "execution_count": 205,
   "metadata": {
    "collapsed": false
   },
   "outputs": [],
   "source": [
    "dataFile='content.json'\n",
    "filename='contentList.json'\n",
    "content=getContent('2',dataFile,filename,biaoshiKey);"
   ]
  },
  {
   "cell_type": "markdown",
   "metadata": {},
   "source": [
    "### 5,获取最终数据"
   ]
  },
  {
   "cell_type": "code",
   "execution_count": 119,
   "metadata": {
    "collapsed": true
   },
   "outputs": [],
   "source": [
    "# 获取最终数据\n",
    "def combineInfo(content,datadictFinal,filename):\n",
    "    '''\n",
    "    content:保证在excel和文书集共同存在：{案号：{原告，被告，案由+程序,诉讼请求，事实理由，适用法条}，}\n",
    "    :datadictFinal: 处理后的案件列表:{案号:{'案由': '信用卡纠纷', '案件得分': 5.0, '实际时间': 57, '法官id': 51}，}\n",
    "    :filename:将数据return之前，保存在filename文件中\n",
    "    :return: 列表与json文件的组合：{'content': {'原告', '被告', '案由+程序', '诉讼请求', '事实理由'},\n",
    "                                     'detail': {'案由', '案件得分'，'实际时间'，'法官id'}}\n",
    "    '''\n",
    "    if os.path.exists(os.path.join('../rawdata',filename)):\n",
    "        read_file = open(os.path.join('../rawdata',filename), 'rb')\n",
    "        data = pickle.load(read_file)\n",
    "        read_file.close()\n",
    "    else:\n",
    "        high=0\n",
    "        low=0\n",
    "        data={}\n",
    "        for key in content:\n",
    "            if key in datadictFinal:\n",
    "                temp={}\n",
    "                temp['content']=content[key]\n",
    "                temp['detail']=datadictFinal[key]\n",
    "                if datadictFinal[key]['案件得分']>=6:\n",
    "                    high=high+1\n",
    "                else:\n",
    "                    low=low+1\n",
    "                data[key]=temp\n",
    "        output = open(os.path.join('../rawdata',filename), 'wb')\n",
    "        pickle.dump(data, output,True)\n",
    "        output.close()\n",
    "        print('>=6',high,'<6',low)\n",
    "    return data"
   ]
  },
  {
   "cell_type": "code",
   "execution_count": 120,
   "metadata": {
    "collapsed": true
   },
   "outputs": [],
   "source": [
    "data=combineInfo(content,datadictFinal,'data.json')"
   ]
  },
  {
   "cell_type": "markdown",
   "metadata": {},
   "source": [
    "### 6,合并所有信息"
   ]
  },
  {
   "cell_type": "code",
   "execution_count": 208,
   "metadata": {
    "collapsed": false
   },
   "outputs": [],
   "source": [
    "\n",
    " #将excel表中的数据处理，输出格式：{'案号'：{'案由','案件得分','实际时间','法官id'}}\n",
    "def getDataFinal(anyoudict1,judge2id1,anyoudict0,judge2id0):\n",
    "    root='民事案件201811-201910 （渝北、江北）.xlsx'\n",
    "    data=pd.read_excel(os.path.join(path,root))   \n",
    "    data0=data[data['法院']=='重庆市江北区人民法院']\n",
    "    data1=data[data['法院']=='重庆市渝北区人民法院']\n",
    "    root_pre='民事案件201801-10（渝北、江北）.xlsx'\n",
    "    data_pre=pd.read_excel(os.path.join(path,root_pre))   \n",
    "    data_pre0=data_pre[data_pre['法院']=='重庆市江北区人民法院']\n",
    "    data_pre1=data_pre[data_pre['法院']=='重庆市渝北区人民法院']\n",
    "    datadict1=score(data1,anyoudict1,judge2id1)\n",
    "    datadict0=score(data0,anyoudict0,judge2id0)\n",
    "    predict0=score(data_pre0,anyoudict0,judge2id0)\n",
    "    predict1=score(data_pre1,anyoudict1,judge2id1)\n",
    "    DataFinal={}\n",
    "    DataFinal.update(datadict0)\n",
    "    DataFinal.update(datadict1)\n",
    "    DataFinal.update(predict0)\n",
    "    DataFinal.update(predict1)\n",
    "    return DataFinal\n",
    "\n",
    "#将文书集中的案件标识与案号统一\n",
    "def getKeyDict(rootw,pathn):\n",
    "#     path='../rawdata'\n",
    "#     rootw=os.path.join(path,'1')\n",
    "#     pathn='keyDict.pkl'\n",
    "    keyDict,table,notFindDoc=signDict(rootw,pathn)\n",
    "    return keyDict\n",
    "\n",
    "#将同在文书集与excel表中的案号提取出来，输出格式：{'案号': '案件标识',\n",
    "def getKeyDictReplace(datadictFinal,keyDict):\n",
    "    keyDcitReplace,biaoshiKey,notExcel=keyReplace(datadictFinal,keyDict)\n",
    "    return keyDcitReplace,biaoshiKey,notExcel\n",
    "\n",
    "#将同在文书集与excel表中的案件进行提取，输出格式：{案号：{原告，被告，案由+程序,诉讼请求，事实理由，适用法条}，}\n",
    "def getContent(root,dataFile,filename,keyDcitReplace):#dataFile='content.json',filename='contentList.json'\n",
    "    if os.path.exists(os.path.join('../rawdata',dataFile)):\n",
    "        content=jsonOne(filename, dataFile)\n",
    "    else:\n",
    "        path = '../rawdata'\n",
    "        rootw = os.path.join(path, root)\n",
    "        data0=filter0(rootw, filename, keyDcitReplace)\n",
    "        content=jsonOne(filename, dataFile)\n",
    "        return content\n",
    "\n",
    "# 获取最终数据\n",
    "def combineInfo(content,datadictFinal,filename):\n",
    "    '''\n",
    "    content:保证在excel和文书集共同存在：{案号：{原告，被告，案由+程序,诉讼请求，事实理由，适用法条}，}\n",
    "    :datadictFinal: 处理后的案件列表:{案号:{'案由': '信用卡纠纷', '案件得分': 5.0, '实际时间': 57, '法官id': 51}，}\n",
    "    :filename:将数据return之前，保存在filename文件中\n",
    "    :return: 列表与json文件的组合：{'content': {'原告', '被告', '案由+程序', '诉讼请求', '事实理由'},\n",
    "                                     'detail': {'案由', '案件得分'，'实际时间'，'法官id'}}\n",
    "    '''\n",
    "    if os.path.exists(os.path.join('../rawdata',filename)):\n",
    "        read_file = open(os.path.join('../rawdata',filename), 'rb')\n",
    "        data = pickle.load(read_file)\n",
    "        read_file.close()\n",
    "    else:\n",
    "        data={}\n",
    "        for key in content:\n",
    "            if key in datadictFinal:\n",
    "                temp={}\n",
    "                temp['content']=content[key]\n",
    "                temp['detail']=datadictFinal[key]\n",
    "                data[key]=temp\n",
    "        output = open(os.path.join('../rawdata',filename), 'wb')\n",
    "        pickle.dump(data, output,True)\n",
    "        output.close()\n",
    "    return data"
   ]
  },
  {
   "cell_type": "code",
   "execution_count": 113,
   "metadata": {
    "collapsed": false
   },
   "outputs": [
    {
     "data": {
      "text/plain": [
       "{'原告': '原告：兴业银行股份有限公司信用卡中心，住所地上海市浦东新区来安路500号，统一社会信用代码91310115676249009H。负责人：汪宇，总经理。委托诉讼代理人：包雪楠，女，重庆腾运律师事务所律师。',\n",
       " '被告': '：秦水平，男，1977年04月27日出生，汉族，住重庆市江津区西湖镇迎宾街422号，公民身份号码510225197704270210。',\n",
       " '案由+程序': '原告兴业银行股份有限公司信用卡中心（以下简称兴业银行信用卡中心）与被告秦水平信用卡纠纷一案，本院于2018年7月6日立案后，依法适用简易程序，公开开庭进行了审理。原告兴业银行信用卡中心的委托诉讼代理人包雪楠与被告秦水平到庭参加诉讼。本案现已审理终结。',\n",
       " '诉讼请求': '原告兴业银行信用卡中心向本院提出诉讼请求：1.秦水平支付截至2018年6月5日的信用卡透支本金50964.03元、利息5051.11元、违约金11698.57元、分期手续费935.05元；2.秦水平支付自2018年6月6日起至本息还清之日止，以透支本金50964.03元为基数按日利率万分之五计收的利息。',\n",
       " '事实理由': '本院经审理认定事实如下：2015年12月24日，秦水平向兴业银行信用卡中心提交信用卡申请表，申请办理信用卡。该申请表所附信用卡领用合约约定了使用该卡发生欠款的偿还办法及其利息、滞纳金、取现手续费以及其他手续费的计收标准。秦水平在该申请表上签字确认，愿意遵守领用合约的各项规则。之后，经兴业银行信用卡中心审批向秦水平发放了卡号为6259625032631102的信用卡一张。秦水平以消费等方式从其信用卡账户中透支，且在该信用卡的使用过程中开通了信用卡分期业务，产生了分期手续费。截至2018年6月5日，秦水平尚欠兴业银行信用卡中心信用卡透支本金50964.03元、利息5051.11元、分期手续费935.05元。',\n",
       " '适用法条': '《中华人民共和国合同法》第八条、第一百零七条、第二百零五条、第二百零六条、第二百零七条，《中华人民共和国民事诉讼法》第一百四十二条及《最高人民法院关于适用<中华人民共和国民事诉讼法>的解释》第九十条之'}"
      ]
     },
     "execution_count": 113,
     "metadata": {},
     "output_type": "execute_result"
    }
   ],
   "source": [
    "data['(2018)渝0105民初31174号']"
   ]
  },
  {
   "cell_type": "code",
   "execution_count": 130,
   "metadata": {
    "collapsed": true
   },
   "outputs": [],
   "source": [
    "rootw = os.path.join(path, '2')\n",
    "pathn = 'keyDict.pkl'\n",
    "dataFile='content.json'\n",
    "filename='contentList.json'"
   ]
  },
  {
   "cell_type": "code",
   "execution_count": 167,
   "metadata": {
    "collapsed": false
   },
   "outputs": [
    {
     "name": "stdout",
     "output_type": "stream",
     "text": [
      "keyDict 42609 table 1 notFindDoc 0\n"
     ]
    }
   ],
   "source": [
    "keyDict=getKeyDict(rootw,pathn)"
   ]
  },
  {
   "cell_type": "code",
   "execution_count": 202,
   "metadata": {
    "collapsed": false
   },
   "outputs": [],
   "source": [
    "keyDcitReplace0,biaoshiKey0,notExcel0=getKeyDictReplace(datadictFinal,keyDict)"
   ]
  },
  {
   "cell_type": "code",
   "execution_count": 203,
   "metadata": {
    "collapsed": false
   },
   "outputs": [
    {
     "name": "stdout",
     "output_type": "stream",
     "text": [
      "41997 41999 487\n"
     ]
    }
   ],
   "source": [
    "print(len(keyDcitReplace0),len(biaoshiKey0),len(notExcel0))"
   ]
  },
  {
   "cell_type": "code",
   "execution_count": 212,
   "metadata": {
    "collapsed": false
   },
   "outputs": [
    {
     "data": {
      "text/plain": [
       "41062"
      ]
     },
     "execution_count": 212,
     "metadata": {},
     "output_type": "execute_result"
    }
   ],
   "source": [
    "len(content)"
   ]
  },
  {
   "cell_type": "code",
   "execution_count": 216,
   "metadata": {
    "collapsed": false
   },
   "outputs": [
    {
     "name": "stdout",
     "output_type": "stream",
     "text": [
      "读取失败的文书 938\n",
      "记录的文书量： 41062\n"
     ]
    }
   ],
   "source": [
    "content=getContent('2',dataFile,filename,biaoshiKey0);"
   ]
  },
  {
   "cell_type": "code",
   "execution_count": 213,
   "metadata": {
    "collapsed": false
   },
   "outputs": [
    {
     "data": {
      "text/plain": [
       "{'原告': '原告：张永江,男,土家族,1990年12月17日出生, 住重庆市黔江区濯水镇双龙村5组,公民身份号码500239199012175752。委托诉讼代理人：张高易，重庆市渝北区两路法律服务所法律工作者。',\n",
       " '被告': ':重庆千彩万家装饰工程有限公司,住所地重庆市渝北区双龙湖街道兰馨大道18号附10号御城华府22幢2-商场。 统一社会信用代码91500112MA5YTFW34A。法定代表人: 刘冬。',\n",
       " '案由+程序': '原告张永江与被告重庆千彩万家装饰工程有限公司劳动争议一案，本院受理后，依法由审判员徐振中适用简易程序中的小额诉讼程序公开开庭进行了审理，原告委托诉讼代理人张高易到庭参加诉讼，被告经本院合法传唤，无正当理由未到庭参加诉讼，本院依法缺席审理。本案现已审理终结。',\n",
       " '诉讼请求': '原告张永江向本院提出诉讼请求：被告支付原告工资 16 948元。',\n",
       " '事实理由': '经审理查明：在原告举示的《关于千彩万家装饰2018年度工地结款协议书》（签订日期为2019年1月18日）上有以下内容：千彩万家装饰原项目经理钟磊在公司承包的在建工地，公司已按时发放款项给钟磊，由于钟磊未能及时发放给工人，现经公司与工人友好沟通协商。决定此款项由公司从钟磊剩余款项中扣除出来，直接发放给工人。合计欠款金额为16 948元，经双方友好协商，此项欠款商定在2019年1月25号前付8474元，剩余款项8474元定在2019年4月25号前付清。公司盖章处加盖重庆千彩万家装饰工程有限公司公章，工人处有张永江签署名字。',\n",
       " '适用法条': ''}"
      ]
     },
     "execution_count": 213,
     "metadata": {},
     "output_type": "execute_result"
    }
   ],
   "source": [
    "content['（2019）渝0112民初9935号']"
   ]
  },
  {
   "cell_type": "code",
   "execution_count": 197,
   "metadata": {
    "collapsed": false
   },
   "outputs": [],
   "source": [
    "content"
   ]
  },
  {
   "cell_type": "code",
   "execution_count": null,
   "metadata": {
    "collapsed": true
   },
   "outputs": [],
   "source": [
    "data=combineInfo(content,datadictFinal,'data.json')"
   ]
  }
 ],
 "metadata": {
  "kernelspec": {
   "display_name": "Python 3",
   "language": "python",
   "name": "python3"
  },
  "language_info": {
   "codemirror_mode": {
    "name": "ipython",
    "version": 3
   },
   "file_extension": ".py",
   "mimetype": "text/x-python",
   "name": "python",
   "nbconvert_exporter": "python",
   "pygments_lexer": "ipython3",
   "version": "3.6.3"
  }
 },
 "nbformat": 4,
 "nbformat_minor": 2
}
